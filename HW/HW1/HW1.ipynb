{
 "cells": [
  {
   "cell_type": "code",
   "execution_count": 6,
   "id": "00e3669f-e7af-448a-b318-7db767b00cea",
   "metadata": {},
   "outputs": [],
   "source": [
    "import random"
   ]
  },
  {
   "cell_type": "code",
   "execution_count": 10,
   "id": "186216f2-16ca-4ee1-b26d-f8d9fa1d4dda",
   "metadata": {},
   "outputs": [],
   "source": [
    "import numpy as np"
   ]
  },
  {
   "cell_type": "code",
   "execution_count": 11,
   "id": "8a443a40-6f8e-4258-a8ae-17f6f2c3c68c",
   "metadata": {},
   "outputs": [],
   "source": [
    "# Task 1\n",
    "a = np.random.randint(1, 11, size=10)"
   ]
  },
  {
   "cell_type": "code",
   "execution_count": 12,
   "id": "335054ca-661b-4e81-be55-9518c149cb8d",
   "metadata": {},
   "outputs": [
    {
     "data": {
      "text/plain": [
       "array([ 8,  2,  2,  7,  9,  3,  6,  9, 10, 10])"
      ]
     },
     "execution_count": 12,
     "metadata": {},
     "output_type": "execute_result"
    }
   ],
   "source": [
    "a"
   ]
  },
  {
   "cell_type": "code",
   "execution_count": 17,
   "id": "7398b08d-ff5d-4861-909b-6af23bde9ffd",
   "metadata": {},
   "outputs": [],
   "source": [
    "# Task 2\n",
    "matrix_1 = np.zeros((3, 3), dtype=int)"
   ]
  },
  {
   "cell_type": "code",
   "execution_count": 18,
   "id": "d1918d2c-919f-4fd6-888f-13e42b090631",
   "metadata": {},
   "outputs": [
    {
     "data": {
      "text/plain": [
       "array([[0, 0, 0],\n",
       "       [0, 0, 0],\n",
       "       [0, 0, 0]])"
      ]
     },
     "execution_count": 18,
     "metadata": {},
     "output_type": "execute_result"
    }
   ],
   "source": [
    "matrix_1"
   ]
  },
  {
   "cell_type": "code",
   "execution_count": 19,
   "id": "012bbe92-e8f1-410c-a368-3422c44204dc",
   "metadata": {},
   "outputs": [],
   "source": [
    "# Task 3\n",
    "matrix_2 = np.random.randint(1, 11, size=(5, 5))"
   ]
  },
  {
   "cell_type": "code",
   "execution_count": 20,
   "id": "f2ba96f1-3e09-48a5-9723-24d55d7bf7cf",
   "metadata": {},
   "outputs": [
    {
     "data": {
      "text/plain": [
       "array([[ 1,  8,  7,  8,  3],\n",
       "       [ 3,  1, 10,  9,  8],\n",
       "       [ 7,  9,  1, 10,  3],\n",
       "       [ 1,  4,  5,  9,  5],\n",
       "       [ 7,  5,  9,  9, 10]])"
      ]
     },
     "execution_count": 20,
     "metadata": {},
     "output_type": "execute_result"
    }
   ],
   "source": [
    "matrix_2"
   ]
  },
  {
   "cell_type": "code",
   "execution_count": 64,
   "id": "4136660c-8432-4824-a418-b6e657f4f313",
   "metadata": {},
   "outputs": [],
   "source": [
    "# Task 4\n",
    "matrix_3 = np.random.rand(4, 4)"
   ]
  },
  {
   "cell_type": "code",
   "execution_count": 65,
   "id": "fd7a4532-7525-4918-8f51-d19fddcd0b44",
   "metadata": {},
   "outputs": [
    {
     "data": {
      "text/plain": [
       "array([[0.67405889, 0.90936621, 0.40629583, 0.91703797],\n",
       "       [0.65482098, 0.88032633, 0.95114619, 0.63703258],\n",
       "       [0.32417158, 0.28811092, 0.08304635, 0.21398965],\n",
       "       [0.42913324, 0.4005845 , 0.67657058, 0.10650645]])"
      ]
     },
     "execution_count": 65,
     "metadata": {},
     "output_type": "execute_result"
    }
   ],
   "source": [
    "matrix_3"
   ]
  },
  {
   "cell_type": "code",
   "execution_count": 21,
   "id": "ff96401d-dc96-4900-b4a2-6768ba78c3f0",
   "metadata": {},
   "outputs": [],
   "source": [
    "# Task 5\n",
    "u = np.random.randint(11, size=5)\n",
    "j = np.random.randint(11, size=5)"
   ]
  },
  {
   "cell_type": "code",
   "execution_count": 22,
   "id": "432ecb70-6f23-42ae-8d07-83038f3e07ca",
   "metadata": {},
   "outputs": [
    {
     "data": {
      "text/plain": [
       "array([ 3, 10,  6, 10,  2])"
      ]
     },
     "execution_count": 22,
     "metadata": {},
     "output_type": "execute_result"
    }
   ],
   "source": [
    "u"
   ]
  },
  {
   "cell_type": "code",
   "execution_count": 23,
   "id": "24a675d2-9a77-496a-99ef-b58d6721c67b",
   "metadata": {},
   "outputs": [
    {
     "data": {
      "text/plain": [
       "array([ 4,  1,  3,  0, 10])"
      ]
     },
     "execution_count": 23,
     "metadata": {},
     "output_type": "execute_result"
    }
   ],
   "source": [
    "j"
   ]
  },
  {
   "cell_type": "code",
   "execution_count": 24,
   "id": "cc70007b-68d4-4417-aed1-edf174fe4b97",
   "metadata": {},
   "outputs": [],
   "source": [
    "res_1 = u + j\n",
    "res_2 = u - j\n",
    "res_3 = u * j"
   ]
  },
  {
   "cell_type": "code",
   "execution_count": 25,
   "id": "e755c777-985a-4d08-a5b0-e25faa159e8d",
   "metadata": {},
   "outputs": [
    {
     "data": {
      "text/plain": [
       "array([ 7, 11,  9, 10, 12])"
      ]
     },
     "execution_count": 25,
     "metadata": {},
     "output_type": "execute_result"
    }
   ],
   "source": [
    "res_1"
   ]
  },
  {
   "cell_type": "code",
   "execution_count": 26,
   "id": "dcf88706-1a51-4b66-bcb7-cf0fc2d09ae6",
   "metadata": {},
   "outputs": [
    {
     "data": {
      "text/plain": [
       "array([-1,  9,  3, 10, -8])"
      ]
     },
     "execution_count": 26,
     "metadata": {},
     "output_type": "execute_result"
    }
   ],
   "source": [
    "res_2"
   ]
  },
  {
   "cell_type": "code",
   "execution_count": 108,
   "id": "2d134c8d-12b1-4d76-8713-7f51c96014f1",
   "metadata": {},
   "outputs": [
    {
     "data": {
      "text/plain": [
       "array([ 0, 36, 18, 12, 16])"
      ]
     },
     "execution_count": 108,
     "metadata": {},
     "output_type": "execute_result"
    }
   ],
   "source": [
    "res_3"
   ]
  },
  {
   "cell_type": "code",
   "execution_count": 27,
   "id": "bede6d76-9957-4c8d-abd9-974c3e67305f",
   "metadata": {},
   "outputs": [],
   "source": [
    "# Task 6\n",
    "w = np.random.randint(11, size=7)\n",
    "e = np.random.randint(11, size=7)\n",
    "\n",
    "res_7 = np.dot(w, e)"
   ]
  },
  {
   "cell_type": "code",
   "execution_count": 28,
   "id": "ad2a0daf-aece-44f0-80f7-ee7ec39edf05",
   "metadata": {},
   "outputs": [
    {
     "data": {
      "text/plain": [
       "240"
      ]
     },
     "execution_count": 28,
     "metadata": {},
     "output_type": "execute_result"
    }
   ],
   "source": [
    "\n",
    "res_7"
   ]
  },
  {
   "cell_type": "code",
   "execution_count": 90,
   "id": "81d061d6-78e2-4f66-9183-ac212ef42853",
   "metadata": {},
   "outputs": [],
   "source": [
    "# Task 7\n",
    "matrix_4 = np.random.randint(1, 11, size=(2, 2)).reshape(4, 1)\n",
    "matrix_5 = np.random.randint(1, 11, size=(3, 3)).reshape(1, 9)\n",
    "res_8 = np.dot(matrix_4, matrix_5)"
   ]
  },
  {
   "cell_type": "code",
   "execution_count": 91,
   "id": "3d43c065-bf24-4086-94ba-b33fc466dee3",
   "metadata": {},
   "outputs": [
    {
     "data": {
      "text/plain": [
       "array([[ 4,  8,  4,  8, 10, 16,  6,  4, 18],\n",
       "       [16, 32, 16, 32, 40, 64, 24, 16, 72],\n",
       "       [ 6, 12,  6, 12, 15, 24,  9,  6, 27],\n",
       "       [10, 20, 10, 20, 25, 40, 15, 10, 45]])"
      ]
     },
     "execution_count": 91,
     "metadata": {},
     "output_type": "execute_result"
    }
   ],
   "source": [
    "res_8"
   ]
  },
  {
   "cell_type": "code",
   "execution_count": 29,
   "id": "042ac0fe-eb31-40d3-a3c4-9c67d9d89f98",
   "metadata": {},
   "outputs": [],
   "source": [
    "# Task 8\n",
    "matrix_6 = np.random.randint(1, 11, size=(3, 3))\n",
    "matrix_6_inv = np.linalg.inv(matrix_6)"
   ]
  },
  {
   "cell_type": "code",
   "execution_count": 30,
   "id": "aac53fb5-9ae4-4cac-8a34-4b48b9ee172d",
   "metadata": {},
   "outputs": [
    {
     "data": {
      "text/plain": [
       "array([[-0.07142857,  0.14285714,  0.        ],\n",
       "       [-0.01322751, -0.01058201,  0.11111111],\n",
       "       [ 0.2037037 , -0.03703704, -0.11111111]])"
      ]
     },
     "execution_count": 30,
     "metadata": {},
     "output_type": "execute_result"
    }
   ],
   "source": [
    "matrix_6_inv"
   ]
  },
  {
   "cell_type": "code",
   "execution_count": 31,
   "id": "ba1c2541-2575-4fad-a93b-3df069005948",
   "metadata": {},
   "outputs": [],
   "source": [
    "# Task 9\n",
    "matrix_7_T = np.random.rand(4, 4).T"
   ]
  },
  {
   "cell_type": "code",
   "execution_count": 32,
   "id": "453fa9d9-4c63-4c3e-aa03-a50e62f015c2",
   "metadata": {},
   "outputs": [
    {
     "data": {
      "text/plain": [
       "array([[0.09834867, 0.88912725, 0.0043966 , 0.2028037 ],\n",
       "       [0.17726094, 0.5131197 , 0.50347138, 0.9789624 ],\n",
       "       [0.59909767, 0.79985728, 0.65316009, 0.45961593],\n",
       "       [0.2820519 , 0.48248186, 0.5402964 , 0.71129386]])"
      ]
     },
     "execution_count": 32,
     "metadata": {},
     "output_type": "execute_result"
    }
   ],
   "source": [
    "matrix_7_T"
   ]
  },
  {
   "cell_type": "code",
   "execution_count": 33,
   "id": "5eed9c44-ce3c-470c-b43d-80383936dc9c",
   "metadata": {},
   "outputs": [],
   "source": [
    "# Task 10\n",
    "matrix_8 = np.random.randint(1, 11, size=(3, 4))\n",
    "r = np.random.randint(10, size=4)\n",
    "res_9 = matrix_8.dot(r)"
   ]
  },
  {
   "cell_type": "code",
   "execution_count": 34,
   "id": "3d99a30a-377a-4455-bd6d-f463cad77fea",
   "metadata": {},
   "outputs": [
    {
     "data": {
      "text/plain": [
       "array([70, 44, 55])"
      ]
     },
     "execution_count": 34,
     "metadata": {},
     "output_type": "execute_result"
    }
   ],
   "source": [
    "res_9"
   ]
  },
  {
   "cell_type": "code",
   "execution_count": 35,
   "id": "372ef5dd-f7fb-4db1-8a03-d212c07a503b",
   "metadata": {},
   "outputs": [],
   "source": [
    "# Task 11\n",
    "matrix_9 = np.random.rand(2, 3)\n",
    "t = np.random.rand(3)\n",
    "res_10 = matrix_9.dot(t)"
   ]
  },
  {
   "cell_type": "code",
   "execution_count": 36,
   "id": "b93aaadf-9ad2-43df-922f-cbe8335dc64f",
   "metadata": {},
   "outputs": [
    {
     "data": {
      "text/plain": [
       "array([1.09525463, 1.13871425])"
      ]
     },
     "execution_count": 36,
     "metadata": {},
     "output_type": "execute_result"
    }
   ],
   "source": [
    "res_10"
   ]
  },
  {
   "cell_type": "code",
   "execution_count": 37,
   "id": "e49d30fa-02d7-4c5f-aeba-e2cb512c2937",
   "metadata": {},
   "outputs": [],
   "source": [
    "# Task 12 \n",
    "matrix_10 = np.random.randint(1, 11, size=(2, 2))\n",
    "matrix_11 = np.random.randint(1, 11, size=(2, 2))\n",
    "res_11 = np.multiply(matrix_10, matrix_11)"
   ]
  },
  {
   "cell_type": "code",
   "execution_count": 38,
   "id": "060fdddf-1970-4b5b-84ee-e59fb459e171",
   "metadata": {},
   "outputs": [
    {
     "data": {
      "text/plain": [
       "array([[ 9,  7],\n",
       "       [24, 25]])"
      ]
     },
     "execution_count": 38,
     "metadata": {},
     "output_type": "execute_result"
    }
   ],
   "source": [
    "res_11"
   ]
  },
  {
   "cell_type": "code",
   "execution_count": 39,
   "id": "bb96e69a-678c-4577-94c8-dc733a9e50de",
   "metadata": {},
   "outputs": [],
   "source": [
    "# Task 13\n",
    "matrix_12 = np.random.randint(1, 11, size=(2, 2))\n",
    "matrix_13 = np.random.randint(1, 11, size=(2, 2))\n",
    "res_12 = np.dot(matrix_10, matrix_11)"
   ]
  },
  {
   "cell_type": "code",
   "execution_count": 40,
   "id": "034d680e-3864-4ccb-9b6c-cb3eab983dcd",
   "metadata": {},
   "outputs": [
    {
     "data": {
      "text/plain": [
       "array([[17, 68],\n",
       "       [43, 46]])"
      ]
     },
     "execution_count": 40,
     "metadata": {},
     "output_type": "execute_result"
    }
   ],
   "source": [
    "res_12"
   ]
  },
  {
   "cell_type": "code",
   "execution_count": 41,
   "id": "bf3d6fb0-1c12-4683-a6b5-31b8fb595b72",
   "metadata": {},
   "outputs": [],
   "source": [
    "# Task 14\n",
    "matrix_14 = np.random.randint(1, 100, size=(5, 5))\n",
    "res_13 = np.sum(matrix_14)"
   ]
  },
  {
   "cell_type": "code",
   "execution_count": 42,
   "id": "6c39604c-29e4-4393-8439-fc1c58ee37e1",
   "metadata": {},
   "outputs": [
    {
     "data": {
      "text/plain": [
       "1106"
      ]
     },
     "execution_count": 42,
     "metadata": {},
     "output_type": "execute_result"
    }
   ],
   "source": [
    "res_13"
   ]
  },
  {
   "cell_type": "code",
   "execution_count": 43,
   "id": "58b4f128-c2c3-4a66-9eab-36a1eaadef8d",
   "metadata": {},
   "outputs": [],
   "source": [
    "# Task 15\n",
    "matrix_15 = np.random.randint(1, 11, size=(4, 4))\n",
    "res_14 = matrix_15.max() - matrix_15.min()"
   ]
  },
  {
   "cell_type": "code",
   "execution_count": 44,
   "id": "fe5a8ec2-dd34-40cf-807d-0d7ed3e719c8",
   "metadata": {},
   "outputs": [
    {
     "data": {
      "text/plain": [
       "9"
      ]
     },
     "execution_count": 44,
     "metadata": {},
     "output_type": "execute_result"
    }
   ],
   "source": [
    "res_14"
   ]
  },
  {
   "cell_type": "code",
   "execution_count": 51,
   "id": "e2b493f7-87b2-43a1-a955-fcbe8036dc61",
   "metadata": {},
   "outputs": [],
   "source": [
    "# Task 16 \n",
    "matrix_16 = np.random.rand(3, 3)\n",
    "res_array = np.sum(matrix_16, axis=1)\n",
    "res_15 = np.array([[res_array[0]], [res_array[1]], [res_array[2]]])"
   ]
  },
  {
   "cell_type": "code",
   "execution_count": 53,
   "id": "1b9eb251-d79e-43f3-a9f7-45acedcff96f",
   "metadata": {},
   "outputs": [
    {
     "data": {
      "text/plain": [
       "array([[0.85835747],\n",
       "       [1.02217215],\n",
       "       [1.16886185]])"
      ]
     },
     "execution_count": 53,
     "metadata": {},
     "output_type": "execute_result"
    }
   ],
   "source": [
    "res_15"
   ]
  },
  {
   "cell_type": "code",
   "execution_count": 57,
   "id": "06d2bfda-af1c-4594-a8c6-bb23974227cd",
   "metadata": {},
   "outputs": [],
   "source": [
    "# Task 17\n",
    "matrix_16 = np.square(np.random.randint(1, 11, size=(3, 4)))"
   ]
  },
  {
   "cell_type": "code",
   "execution_count": 58,
   "id": "cafde626-d46d-49ca-be93-8282919c82c5",
   "metadata": {},
   "outputs": [
    {
     "data": {
      "text/plain": [
       "array([[ 9, 64, 16, 81],\n",
       "       [25,  1, 81, 25],\n",
       "       [36,  4, 16, 16]])"
      ]
     },
     "execution_count": 58,
     "metadata": {},
     "output_type": "execute_result"
    }
   ],
   "source": [
    "matrix_16"
   ]
  },
  {
   "cell_type": "code",
   "execution_count": 59,
   "id": "999feafd-f6a0-41ed-bad5-c4fdde818382",
   "metadata": {},
   "outputs": [],
   "source": [
    "# Task 18\n",
    "o = np.sqrt(np.random.randint(51, size=4))"
   ]
  },
  {
   "cell_type": "code",
   "execution_count": 60,
   "id": "2c3decab-d471-4389-90cc-91b304e74e30",
   "metadata": {},
   "outputs": [
    {
     "data": {
      "text/plain": [
       "array([6.55743852, 7.07106781, 7.        , 1.41421356])"
      ]
     },
     "execution_count": 60,
     "metadata": {},
     "output_type": "execute_result"
    }
   ],
   "source": [
    "o"
   ]
  }
 ],
 "metadata": {
  "kernelspec": {
   "display_name": "anaconda-2022.05-py39",
   "language": "python",
   "name": "conda-env-anaconda-2022.05-py39-py"
  },
  "language_info": {
   "codemirror_mode": {
    "name": "ipython",
    "version": 3
   },
   "file_extension": ".py",
   "mimetype": "text/x-python",
   "name": "python",
   "nbconvert_exporter": "python",
   "pygments_lexer": "ipython3",
   "version": "3.9.12"
  }
 },
 "nbformat": 4,
 "nbformat_minor": 5
}
