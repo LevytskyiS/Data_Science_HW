{
 "cells": [
  {
   "cell_type": "code",
   "execution_count": 144,
   "id": "029d4f04-df4d-4246-b8f0-93b7bf96f96f",
   "metadata": {},
   "outputs": [],
   "source": [
    "%matplotlib inline\n",
    "import pandas as pd\n",
    "import numpy as np\n",
    "import matplotlib.pyplot as plt"
   ]
  },
  {
   "cell_type": "code",
   "execution_count": 145,
   "id": "5c38f34c-cd75-4a78-be4a-fef7aa158ec3",
   "metadata": {},
   "outputs": [],
   "source": [
    "bestsellers_csv = \"bestsellers with categories.csv\""
   ]
  },
  {
   "cell_type": "code",
   "execution_count": 146,
   "id": "7b4fadb7-9f92-418a-9ffd-a585044bf66c",
   "metadata": {},
   "outputs": [],
   "source": [
    "# Task 3.1 Прочитайте csv файл (використовуйте функцію read_csv)\n",
    "df = pd.read_csv(bestsellers_csv)"
   ]
  },
  {
   "cell_type": "code",
   "execution_count": 147,
   "id": "05386a01-96be-485f-be25-d1808badde31",
   "metadata": {},
   "outputs": [
    {
     "data": {
      "text/html": [
       "<div>\n",
       "<style scoped>\n",
       "    .dataframe tbody tr th:only-of-type {\n",
       "        vertical-align: middle;\n",
       "    }\n",
       "\n",
       "    .dataframe tbody tr th {\n",
       "        vertical-align: top;\n",
       "    }\n",
       "\n",
       "    .dataframe thead th {\n",
       "        text-align: right;\n",
       "    }\n",
       "</style>\n",
       "<table border=\"1\" class=\"dataframe\">\n",
       "  <thead>\n",
       "    <tr style=\"text-align: right;\">\n",
       "      <th></th>\n",
       "      <th>Name</th>\n",
       "      <th>Author</th>\n",
       "      <th>User Rating</th>\n",
       "      <th>Reviews</th>\n",
       "      <th>Price</th>\n",
       "      <th>Year</th>\n",
       "      <th>Genre</th>\n",
       "    </tr>\n",
       "  </thead>\n",
       "  <tbody>\n",
       "    <tr>\n",
       "      <th>0</th>\n",
       "      <td>10-Day Green Smoothie Cleanse</td>\n",
       "      <td>JJ Smith</td>\n",
       "      <td>4.7</td>\n",
       "      <td>17350</td>\n",
       "      <td>8</td>\n",
       "      <td>2016</td>\n",
       "      <td>Non Fiction</td>\n",
       "    </tr>\n",
       "    <tr>\n",
       "      <th>1</th>\n",
       "      <td>11/22/63: A Novel</td>\n",
       "      <td>Stephen King</td>\n",
       "      <td>4.6</td>\n",
       "      <td>2052</td>\n",
       "      <td>22</td>\n",
       "      <td>2011</td>\n",
       "      <td>Fiction</td>\n",
       "    </tr>\n",
       "    <tr>\n",
       "      <th>2</th>\n",
       "      <td>12 Rules for Life: An Antidote to Chaos</td>\n",
       "      <td>Jordan B. Peterson</td>\n",
       "      <td>4.7</td>\n",
       "      <td>18979</td>\n",
       "      <td>15</td>\n",
       "      <td>2018</td>\n",
       "      <td>Non Fiction</td>\n",
       "    </tr>\n",
       "    <tr>\n",
       "      <th>3</th>\n",
       "      <td>1984 (Signet Classics)</td>\n",
       "      <td>George Orwell</td>\n",
       "      <td>4.7</td>\n",
       "      <td>21424</td>\n",
       "      <td>6</td>\n",
       "      <td>2017</td>\n",
       "      <td>Fiction</td>\n",
       "    </tr>\n",
       "    <tr>\n",
       "      <th>4</th>\n",
       "      <td>5,000 Awesome Facts (About Everything!) (Natio...</td>\n",
       "      <td>National Geographic Kids</td>\n",
       "      <td>4.8</td>\n",
       "      <td>7665</td>\n",
       "      <td>12</td>\n",
       "      <td>2019</td>\n",
       "      <td>Non Fiction</td>\n",
       "    </tr>\n",
       "  </tbody>\n",
       "</table>\n",
       "</div>"
      ],
      "text/plain": [
       "                                                Name  \\\n",
       "0                      10-Day Green Smoothie Cleanse   \n",
       "1                                  11/22/63: A Novel   \n",
       "2            12 Rules for Life: An Antidote to Chaos   \n",
       "3                             1984 (Signet Classics)   \n",
       "4  5,000 Awesome Facts (About Everything!) (Natio...   \n",
       "\n",
       "                     Author  User Rating  Reviews  Price  Year        Genre  \n",
       "0                  JJ Smith          4.7    17350      8  2016  Non Fiction  \n",
       "1              Stephen King          4.6     2052     22  2011      Fiction  \n",
       "2        Jordan B. Peterson          4.7    18979     15  2018  Non Fiction  \n",
       "3             George Orwell          4.7    21424      6  2017      Fiction  \n",
       "4  National Geographic Kids          4.8     7665     12  2019  Non Fiction  "
      ]
     },
     "execution_count": 147,
     "metadata": {},
     "output_type": "execute_result"
    }
   ],
   "source": [
    "# Task 3.2 Виведіть перші п'ять рядків (використовується функція head)\n",
    "df.head()"
   ]
  },
  {
   "cell_type": "code",
   "execution_count": 148,
   "id": "169262cd-9beb-4dba-aced-fc01dea40a64",
   "metadata": {},
   "outputs": [
    {
     "data": {
      "text/plain": [
       "(550, 7)"
      ]
     },
     "execution_count": 148,
     "metadata": {},
     "output_type": "execute_result"
    }
   ],
   "source": [
    "# Task 3.3 Виведіть розміри датасету (використовуйте атрибут shape)\n",
    "df.shape"
   ]
  },
  {
   "cell_type": "code",
   "execution_count": 149,
   "id": "49266a8a-db3d-4f8f-8055-612e079ada98",
   "metadata": {},
   "outputs": [],
   "source": [
    "# Task 3.4\n",
    "# Про скільки книг зберігає дані датасет?\n",
    "# 550"
   ]
  },
  {
   "cell_type": "code",
   "execution_count": 150,
   "id": "75091ec7-1377-4dc7-a883-1f5df7db9edd",
   "metadata": {},
   "outputs": [],
   "source": [
    "df.columns = [\"name\", \"author\", \"user_rating\", \"reviews\", \"price\", \"year\", \"genre\"]"
   ]
  },
  {
   "cell_type": "code",
   "execution_count": 151,
   "id": "bb4a0de5-f411-4d97-9957-0092186ee11b",
   "metadata": {},
   "outputs": [
    {
     "data": {
      "text/plain": [
       "name           0\n",
       "author         0\n",
       "user_rating    0\n",
       "reviews        0\n",
       "price          0\n",
       "year           0\n",
       "genre          0\n",
       "dtype: int64"
      ]
     },
     "execution_count": 151,
     "metadata": {},
     "output_type": "execute_result"
    }
   ],
   "source": [
    "# Task 3.5 Перевірте, чи у всіх рядків вистачає даних: виведіть кількість\n",
    "# пропусків (na) у кожному зі стовпців (використовуйте функції isna та sum)\n",
    "np.sum(df.isnull())"
   ]
  },
  {
   "cell_type": "code",
   "execution_count": 152,
   "id": "e1a5a12c-f5c0-409a-bff5-de785bbb9993",
   "metadata": {},
   "outputs": [
    {
     "data": {
      "text/plain": [
       "array(['Non Fiction', 'Fiction'], dtype=object)"
      ]
     },
     "execution_count": 152,
     "metadata": {},
     "output_type": "execute_result"
    }
   ],
   "source": [
    "# Task 3.6 Перевірте, які є унікальні значення в колонці\n",
    "# genre (використовуйте функцію unique)\n",
    "pd.unique(df[\"genre\"])\n",
    "\n",
    "# Відповідь: Які є унікальні жанри?\n",
    "# Non Fiction, Fiction"
   ]
  },
  {
   "cell_type": "code",
   "execution_count": 153,
   "id": "df545dc2-8f9e-4b49-bdcb-edbfd2dde030",
   "metadata": {},
   "outputs": [
    {
     "data": {
      "text/plain": [
       "<AxesSubplot:title={'center':'Price Frequency'}, ylabel='Frequency'>"
      ]
     },
     "execution_count": 153,
     "metadata": {},
     "output_type": "execute_result"
    },
    {
     "data": {
      "image/png": "[encoded data removed]",
      "text/plain": [
       "<Figure size 432x288 with 1 Axes>"
      ]
     },
     "metadata": {
      "needs_background": "light"
     },
     "output_type": "display_data"
    }
   ],
   "source": [
    "# Task 3.7 Тепер подивіться на розподіл цін:\n",
    "# побудуйте діаграму (використовуйте kind='hist')\n",
    "df[\"price\"].plot(kind=\"hist\", title=\"Price Frequency\", grid=True)"
   ]
  },
  {
   "cell_type": "code",
   "execution_count": 154,
   "id": "5ba3bb54-9bb9-463e-8bad-c4bef206fd61",
   "metadata": {},
   "outputs": [],
   "source": [
    "# Task 3.8 Визначте, яка ціна у нас максимальна, мінімальна, середня,\n",
    "# медіанна (використовуйте функції max, min, mean, median)\n",
    "prices = df[\"price\"]\n",
    "max_p = prices.max()\n",
    "min_p = prices.min()\n",
    "mean_p = prices.mean()\n",
    "median_p = prices.median()\n",
    "# Відповідь: Максимальна ціна? - 105\n",
    "# Відповідь: Мінімальна ціна? - 0\n",
    "# Відповідь: Середня ціна? - 13.1\n",
    "# Відповідь: Медіанна ціна? - 11.0"
   ]
  },
  {
   "cell_type": "code",
   "execution_count": 155,
   "id": "9cb8641f-7203-4628-a3a7-2ba43765cc66",
   "metadata": {},
   "outputs": [
    {
     "data": {
      "text/plain": [
       "(105, 0, 13.1, 11.0)"
      ]
     },
     "execution_count": 155,
     "metadata": {},
     "output_type": "execute_result"
    }
   ],
   "source": [
    "max_p, min_p, mean_p, median_p"
   ]
  },
  {
   "cell_type": "code",
   "execution_count": 156,
   "id": "33a33c1b-239a-4b7c-8b64-15fc1d2fa4b5",
   "metadata": {},
   "outputs": [],
   "source": [
    "# Task 3.9 Який рейтинг у датасеті найвищий? Відповідь: 4.9\n",
    "highest_rating = df[\"user_rating\"].max()"
   ]
  },
  {
   "cell_type": "code",
   "execution_count": 157,
   "id": "ea2191c0-049d-42e8-b939-817ad4aca0fa",
   "metadata": {},
   "outputs": [
    {
     "data": {
      "text/plain": [
       "4.9"
      ]
     },
     "execution_count": 157,
     "metadata": {},
     "output_type": "execute_result"
    }
   ],
   "source": [
    "highest_rating"
   ]
  },
  {
   "cell_type": "code",
   "execution_count": 158,
   "id": "53c12516-cc6a-4c6f-b1d8-7473c740593d",
   "metadata": {},
   "outputs": [],
   "source": [
    "# Task 3.10 Скільки книг мають такий рейтинг? Відповідь: 52\n",
    "hr_books_df = df[df[\"user_rating\"] >= highest_rating]\n",
    "quantity = hr_books_df[\"name\"].count()"
   ]
  },
  {
   "cell_type": "code",
   "execution_count": 159,
   "id": "a2070ec2-7595-4461-a981-44cfdfffdcd3",
   "metadata": {},
   "outputs": [
    {
     "data": {
      "text/plain": [
       "52"
      ]
     },
     "execution_count": 159,
     "metadata": {},
     "output_type": "execute_result"
    }
   ],
   "source": [
    "quantity"
   ]
  },
  {
   "cell_type": "code",
   "execution_count": 160,
   "id": "6bb44040-c889-4a5d-bca1-1a02df02367c",
   "metadata": {},
   "outputs": [],
   "source": [
    "# Task 3.11 Яка книга має найбільше відгуків? Відповідь: Where the Crawdads Sing\n",
    "most_revs_book = df[df[\"reviews\"] == df[\"reviews\"].max()][\"name\"]"
   ]
  },
  {
   "cell_type": "code",
   "execution_count": 161,
   "id": "ec70901c-aeba-4d9a-bfa9-bb39b9430b7a",
   "metadata": {},
   "outputs": [
    {
     "data": {
      "text/plain": [
       "534    Where the Crawdads Sing\n",
       "Name: name, dtype: object"
      ]
     },
     "execution_count": 161,
     "metadata": {},
     "output_type": "execute_result"
    }
   ],
   "source": [
    "most_revs_book"
   ]
  },
  {
   "cell_type": "code",
   "execution_count": 162,
   "id": "263f4cd3-92ff-4354-926e-22e2a9eb2605",
   "metadata": {},
   "outputs": [],
   "source": [
    "# Task 3.12 З тих книг, що потрапили до Топ-50 у 2015 році,\n",
    "# яка книга найдорожча (можна використати проміжний датафрейм)? Відповідь: Humans of New York : Stories\n",
    "top_50_2015 = (\n",
    "    df.sort_values(by=\"user_rating\", ascending=False).head(50).loc[(df[\"year\"] == 2015)]\n",
    ")\n",
    "most_exp_book_2015 = top_50_2015[\n",
    "    top_50_2015[\"price\"] == top_50_2015[\"price\"].max()\n",
    "].name"
   ]
  },
  {
   "cell_type": "code",
   "execution_count": 163,
   "id": "6805292b-0811-40ea-8090-cd1444ec4148",
   "metadata": {},
   "outputs": [
    {
     "data": {
      "text/plain": [
       "174    Humans of New York : Stories\n",
       "Name: name, dtype: object"
      ]
     },
     "execution_count": 163,
     "metadata": {},
     "output_type": "execute_result"
    }
   ],
   "source": [
    "most_exp_book_2015"
   ]
  },
  {
   "cell_type": "code",
   "execution_count": 164,
   "id": "a7a445bb-aed5-4a59-8b6b-5738d884abd4",
   "metadata": {},
   "outputs": [],
   "source": [
    "# Task 3.13 Скільки книг жанру Fiction потрапили до Топ-50 у 2010 році (використовуйте &)? Відповідь: 2\n",
    "fiction_2010 = len(\n",
    "    df.sort_values(by=\"reviews\", ascending=False)\n",
    "    .head(50)\n",
    "    .loc[((df[\"year\"] == 2010) & (df[\"genre\"] == \"Fiction\"))]\n",
    ")"
   ]
  },
  {
   "cell_type": "code",
   "execution_count": 165,
   "id": "3406fa55-4835-45ac-ad6c-8cfcbc03dab2",
   "metadata": {},
   "outputs": [
    {
     "data": {
      "text/plain": [
       "2"
      ]
     },
     "execution_count": 165,
     "metadata": {},
     "output_type": "execute_result"
    }
   ],
   "source": [
    "fiction_2010"
   ]
  },
  {
   "cell_type": "code",
   "execution_count": 166,
   "id": "e2ce7a4d-d96c-4324-b10c-45c8065c6964",
   "metadata": {},
   "outputs": [],
   "source": [
    "# Task 3.14 Скільки книг з рейтингом 4.9 потрапило до рейтингу\n",
    "# у 2010 та 2011 роках (використовуйте | або функцію isin)? Відповідь: 1\n",
    "b49 = df[\n",
    "    (df[\"year\"] == 2011) & (df[\"user_rating\"] == 4.9)\n",
    "    | (df[\"year\"] == 2010) & (df[\"user_rating\"] == 4.9)\n",
    "]"
   ]
  },
  {
   "cell_type": "code",
   "execution_count": 167,
   "id": "dfd1e910-dd96-454a-9eb3-9b36f6f94732",
   "metadata": {},
   "outputs": [
    {
     "data": {
      "text/html": [
       "<div>\n",
       "<style scoped>\n",
       "    .dataframe tbody tr th:only-of-type {\n",
       "        vertical-align: middle;\n",
       "    }\n",
       "\n",
       "    .dataframe tbody tr th {\n",
       "        vertical-align: top;\n",
       "    }\n",
       "\n",
       "    .dataframe thead th {\n",
       "        text-align: right;\n",
       "    }\n",
       "</style>\n",
       "<table border=\"1\" class=\"dataframe\">\n",
       "  <thead>\n",
       "    <tr style=\"text-align: right;\">\n",
       "      <th></th>\n",
       "      <th>name</th>\n",
       "      <th>author</th>\n",
       "      <th>user_rating</th>\n",
       "      <th>reviews</th>\n",
       "      <th>price</th>\n",
       "      <th>year</th>\n",
       "      <th>genre</th>\n",
       "    </tr>\n",
       "  </thead>\n",
       "  <tbody>\n",
       "    <tr>\n",
       "      <th>187</th>\n",
       "      <td>Jesus Calling: Enjoying Peace in His Presence ...</td>\n",
       "      <td>Sarah Young</td>\n",
       "      <td>4.9</td>\n",
       "      <td>19576</td>\n",
       "      <td>8</td>\n",
       "      <td>2011</td>\n",
       "      <td>Non Fiction</td>\n",
       "    </tr>\n",
       "  </tbody>\n",
       "</table>\n",
       "</div>"
      ],
      "text/plain": [
       "                                                  name       author  \\\n",
       "187  Jesus Calling: Enjoying Peace in His Presence ...  Sarah Young   \n",
       "\n",
       "     user_rating  reviews  price  year        genre  \n",
       "187          4.9    19576      8  2011  Non Fiction  "
      ]
     },
     "execution_count": 167,
     "metadata": {},
     "output_type": "execute_result"
    }
   ],
   "source": [
    "b49"
   ]
  },
  {
   "cell_type": "code",
   "execution_count": 168,
   "id": "10649cb6-2da5-4036-aea4-d33c8a0b80f9",
   "metadata": {},
   "outputs": [],
   "source": [
    "# Task 3.15  насамкінець, давайте відсортуємо за зростанням ціни всі книги, які потрапили до\n",
    "# рейтингу в 2015 році і коштують дешевше за 8 доларів (використовуйте функцію sort_values).\n",
    "# Відповідь: Яка книга остання у відсортованому списку? Відповідь: Old School (Diary of a Wimpy Kid #10)\n",
    "books_2015 = df[df[\"year\"] == 2015].sort_values(by=\"price\", ascending=True)\n",
    "cheap_books_2015 = books_2015[(books_2015[\"price\"] < 8)]\n",
    "last_book = cheap_books_2015.tail(1).name"
   ]
  },
  {
   "cell_type": "code",
   "execution_count": 169,
   "id": "59097842-0fe4-4f79-8ed6-ddf12ecdabc0",
   "metadata": {},
   "outputs": [
    {
     "data": {
      "text/plain": [
       "253    Old School (Diary of a Wimpy Kid #10)\n",
       "Name: name, dtype: object"
      ]
     },
     "execution_count": 169,
     "metadata": {},
     "output_type": "execute_result"
    }
   ],
   "source": [
    "last_book"
   ]
  },
  {
   "cell_type": "code",
   "execution_count": 170,
   "id": "9438f314-fea8-4cf2-90cf-b29e14e1588c",
   "metadata": {},
   "outputs": [],
   "source": [
    "# Task 3.16 Для початку давайте подивимося на максимальну та мінімальну\n",
    "# ціни для кожного з жанрів (використовуйте функції groupby та agg,\n",
    "# для підрахунку мінімальних та максимальних значень використовуйте max та min). Не беріть усі стовпці, виберіть тільки потрібні вам\n",
    "genre_prices = df.groupby(\"genre\")[\"price\"].agg([\"min\", \"max\"])\n",
    "\n",
    "# Максимальна ціна для жанру Fiction: 82\n",
    "# Мінімальна ціна для жанру Fiction: 0\n",
    "# Максимальна ціна для жанру Non Fiction: 105\n",
    "# Мінімальна ціна для жанру Non Fiction: 0"
   ]
  },
  {
   "cell_type": "code",
   "execution_count": 171,
   "id": "66485426-f3b6-4e1b-9397-940250da77de",
   "metadata": {},
   "outputs": [
    {
     "data": {
      "text/html": [
       "<div>\n",
       "<style scoped>\n",
       "    .dataframe tbody tr th:only-of-type {\n",
       "        vertical-align: middle;\n",
       "    }\n",
       "\n",
       "    .dataframe tbody tr th {\n",
       "        vertical-align: top;\n",
       "    }\n",
       "\n",
       "    .dataframe thead th {\n",
       "        text-align: right;\n",
       "    }\n",
       "</style>\n",
       "<table border=\"1\" class=\"dataframe\">\n",
       "  <thead>\n",
       "    <tr style=\"text-align: right;\">\n",
       "      <th></th>\n",
       "      <th>min</th>\n",
       "      <th>max</th>\n",
       "    </tr>\n",
       "    <tr>\n",
       "      <th>genre</th>\n",
       "      <th></th>\n",
       "      <th></th>\n",
       "    </tr>\n",
       "  </thead>\n",
       "  <tbody>\n",
       "    <tr>\n",
       "      <th>Fiction</th>\n",
       "      <td>0</td>\n",
       "      <td>82</td>\n",
       "    </tr>\n",
       "    <tr>\n",
       "      <th>Non Fiction</th>\n",
       "      <td>0</td>\n",
       "      <td>105</td>\n",
       "    </tr>\n",
       "  </tbody>\n",
       "</table>\n",
       "</div>"
      ],
      "text/plain": [
       "             min  max\n",
       "genre                \n",
       "Fiction        0   82\n",
       "Non Fiction    0  105"
      ]
     },
     "execution_count": 171,
     "metadata": {},
     "output_type": "execute_result"
    }
   ],
   "source": [
    "genre_prices"
   ]
  },
  {
   "cell_type": "code",
   "execution_count": 172,
   "id": "1f905d70-55bc-4c06-b15b-596a34cda26b",
   "metadata": {},
   "outputs": [],
   "source": [
    "# Task 3.17 Тепер створіть новий датафрейм, який вміщатиме кількість книг\n",
    "# для кожного з авторів (використовуйте функції groupby та agg, для підрахунку\n",
    "# кількості використовуйте count). Не беріть усі стовпці, виберете тільки потрібні\n",
    "df = df.drop_duplicates(subset=[\"name\"])\n",
    "books = df.groupby([\"author\"], group_keys=False)[\"name\"].count()\n",
    "books.sort_values(ascending=True).tail(1)\n",
    "df1 = pd.DataFrame(books)\n",
    "# Якої розмірності вийшла таблиця? Відповідь: (248, 1)\n",
    "# Який автор має найбільше книг? Відповідь: Jeff Kinney\n",
    "# Скільки книг цього автора? Відповідь: 12"
   ]
  },
  {
   "cell_type": "code",
   "execution_count": 173,
   "id": "d1af36ea-9300-4a70-8533-713cd3295f63",
   "metadata": {},
   "outputs": [
    {
     "data": {
      "text/plain": [
       "author\n",
       "Jeff Kinney    12\n",
       "Name: name, dtype: int64"
      ]
     },
     "execution_count": 173,
     "metadata": {},
     "output_type": "execute_result"
    }
   ],
   "source": [
    "books.sort_values(ascending=True).tail(1)"
   ]
  },
  {
   "cell_type": "code",
   "execution_count": 174,
   "id": "d5e9f767-4ac1-40ab-b007-caa578cf3700",
   "metadata": {},
   "outputs": [
    {
     "data": {
      "text/plain": [
       "(248, 1)"
      ]
     },
     "execution_count": 174,
     "metadata": {},
     "output_type": "execute_result"
    }
   ],
   "source": [
    "df1.shape"
   ]
  },
  {
   "cell_type": "code",
   "execution_count": 175,
   "id": "1925dce2-db9f-41ef-ae9e-0220995053c6",
   "metadata": {},
   "outputs": [],
   "source": [
    "# Task 3.18 Tепер створіть другий датафрейм, який буде вміщати середній рейтинг для кожного\n",
    "# автора (використовуйте функції groupby та agg, для підрахунку середнього значення використовуйте mean).\n",
    "# Не беріть усі стовпці, виберете тільки потрібні\n",
    "\n",
    "mean_rating = df.groupby([\"author\"], group_keys=False)[\"user_rating\"].agg(\"mean\")\n",
    "mean_rating.sort_values(ascending=False).tail(1)\n",
    "df2 = pd.DataFrame(mean_rating)\n",
    "\n",
    "# У якого автора середній рейтинг мінімальний? Відповідь: Donna Tartt\n",
    "# Який у цього автора середній рейтинг? Відповідь: 3.9"
   ]
  },
  {
   "cell_type": "code",
   "execution_count": 176,
   "id": "b7d4174c-1357-48bf-83d7-a25828d85ba0",
   "metadata": {},
   "outputs": [
    {
     "data": {
      "text/plain": [
       "author\n",
       "Donna Tartt    3.9\n",
       "Name: user_rating, dtype: float64"
      ]
     },
     "execution_count": 176,
     "metadata": {},
     "output_type": "execute_result"
    }
   ],
   "source": [
    "mean_rating.sort_values(ascending=False).tail(1)"
   ]
  },
  {
   "cell_type": "code",
   "execution_count": 177,
   "id": "967f5602-32da-4854-985e-4e7685a41081",
   "metadata": {},
   "outputs": [],
   "source": [
    "# Task 3.19 З'єднайте останні два датафрейми так, щоб для кожного автора було\n",
    "# видно кількість книг та середній рейтинг\n",
    "# (Використовуйте функцію concat з параметром axis=1). Збережіть результат у змінну\n",
    "\n",
    "df3 = pd.concat([df1, df2], axis=1)"
   ]
  },
  {
   "cell_type": "code",
   "execution_count": 178,
   "id": "ead295db-9b4c-4125-93bf-2a4fd44634c6",
   "metadata": {},
   "outputs": [
    {
     "data": {
      "text/html": [
       "<div>\n",
       "<style scoped>\n",
       "    .dataframe tbody tr th:only-of-type {\n",
       "        vertical-align: middle;\n",
       "    }\n",
       "\n",
       "    .dataframe tbody tr th {\n",
       "        vertical-align: top;\n",
       "    }\n",
       "\n",
       "    .dataframe thead th {\n",
       "        text-align: right;\n",
       "    }\n",
       "</style>\n",
       "<table border=\"1\" class=\"dataframe\">\n",
       "  <thead>\n",
       "    <tr style=\"text-align: right;\">\n",
       "      <th></th>\n",
       "      <th>name</th>\n",
       "      <th>user_rating</th>\n",
       "    </tr>\n",
       "    <tr>\n",
       "      <th>author</th>\n",
       "      <th></th>\n",
       "      <th></th>\n",
       "    </tr>\n",
       "  </thead>\n",
       "  <tbody>\n",
       "    <tr>\n",
       "      <th>Abraham Verghese</th>\n",
       "      <td>1</td>\n",
       "      <td>4.60</td>\n",
       "    </tr>\n",
       "    <tr>\n",
       "      <th>Adam Gasiewski</th>\n",
       "      <td>1</td>\n",
       "      <td>4.40</td>\n",
       "    </tr>\n",
       "    <tr>\n",
       "      <th>Adam Mansbach</th>\n",
       "      <td>1</td>\n",
       "      <td>4.80</td>\n",
       "    </tr>\n",
       "    <tr>\n",
       "      <th>Adir Levy</th>\n",
       "      <td>1</td>\n",
       "      <td>4.80</td>\n",
       "    </tr>\n",
       "    <tr>\n",
       "      <th>Admiral William H. McRaven</th>\n",
       "      <td>1</td>\n",
       "      <td>4.70</td>\n",
       "    </tr>\n",
       "    <tr>\n",
       "      <th>...</th>\n",
       "      <td>...</td>\n",
       "      <td>...</td>\n",
       "    </tr>\n",
       "    <tr>\n",
       "      <th>Walter Isaacson</th>\n",
       "      <td>2</td>\n",
       "      <td>4.55</td>\n",
       "    </tr>\n",
       "    <tr>\n",
       "      <th>William Davis</th>\n",
       "      <td>1</td>\n",
       "      <td>4.40</td>\n",
       "    </tr>\n",
       "    <tr>\n",
       "      <th>William P. Young</th>\n",
       "      <td>1</td>\n",
       "      <td>4.60</td>\n",
       "    </tr>\n",
       "    <tr>\n",
       "      <th>Wizards RPG Team</th>\n",
       "      <td>1</td>\n",
       "      <td>4.80</td>\n",
       "    </tr>\n",
       "    <tr>\n",
       "      <th>Zhi Gang Sha</th>\n",
       "      <td>2</td>\n",
       "      <td>4.60</td>\n",
       "    </tr>\n",
       "  </tbody>\n",
       "</table>\n",
       "<p>248 rows × 2 columns</p>\n",
       "</div>"
      ],
      "text/plain": [
       "                            name  user_rating\n",
       "author                                       \n",
       "Abraham Verghese               1         4.60\n",
       "Adam Gasiewski                 1         4.40\n",
       "Adam Mansbach                  1         4.80\n",
       "Adir Levy                      1         4.80\n",
       "Admiral William H. McRaven     1         4.70\n",
       "...                          ...          ...\n",
       "Walter Isaacson                2         4.55\n",
       "William Davis                  1         4.40\n",
       "William P. Young               1         4.60\n",
       "Wizards RPG Team               1         4.80\n",
       "Zhi Gang Sha                   2         4.60\n",
       "\n",
       "[248 rows x 2 columns]"
      ]
     },
     "execution_count": 178,
     "metadata": {},
     "output_type": "execute_result"
    }
   ],
   "source": [
    "df3"
   ]
  },
  {
   "cell_type": "code",
   "execution_count": 179,
   "id": "2b9c8f54-e6f8-454e-8788-928f90f76f7d",
   "metadata": {},
   "outputs": [
    {
     "data": {
      "text/html": [
       "<div>\n",
       "<style scoped>\n",
       "    .dataframe tbody tr th:only-of-type {\n",
       "        vertical-align: middle;\n",
       "    }\n",
       "\n",
       "    .dataframe tbody tr th {\n",
       "        vertical-align: top;\n",
       "    }\n",
       "\n",
       "    .dataframe thead th {\n",
       "        text-align: right;\n",
       "    }\n",
       "</style>\n",
       "<table border=\"1\" class=\"dataframe\">\n",
       "  <thead>\n",
       "    <tr style=\"text-align: right;\">\n",
       "      <th></th>\n",
       "      <th>name</th>\n",
       "      <th>user_rating</th>\n",
       "    </tr>\n",
       "    <tr>\n",
       "      <th>author</th>\n",
       "      <th></th>\n",
       "      <th></th>\n",
       "    </tr>\n",
       "  </thead>\n",
       "  <tbody>\n",
       "    <tr>\n",
       "      <th>Donna Tartt</th>\n",
       "      <td>1</td>\n",
       "      <td>3.900000</td>\n",
       "    </tr>\n",
       "    <tr>\n",
       "      <th>Gallup</th>\n",
       "      <td>1</td>\n",
       "      <td>4.000000</td>\n",
       "    </tr>\n",
       "    <tr>\n",
       "      <th>Gillian Flynn</th>\n",
       "      <td>1</td>\n",
       "      <td>4.000000</td>\n",
       "    </tr>\n",
       "    <tr>\n",
       "      <th>Muriel Barbery</th>\n",
       "      <td>1</td>\n",
       "      <td>4.000000</td>\n",
       "    </tr>\n",
       "    <tr>\n",
       "      <th>Chris Cleave</th>\n",
       "      <td>1</td>\n",
       "      <td>4.100000</td>\n",
       "    </tr>\n",
       "    <tr>\n",
       "      <th>...</th>\n",
       "      <td>...</td>\n",
       "      <td>...</td>\n",
       "    </tr>\n",
       "    <tr>\n",
       "      <th>Bill O'Reilly</th>\n",
       "      <td>6</td>\n",
       "      <td>4.633333</td>\n",
       "    </tr>\n",
       "    <tr>\n",
       "      <th>Dav Pilkey</th>\n",
       "      <td>6</td>\n",
       "      <td>4.900000</td>\n",
       "    </tr>\n",
       "    <tr>\n",
       "      <th>Stephenie Meyer</th>\n",
       "      <td>7</td>\n",
       "      <td>4.657143</td>\n",
       "    </tr>\n",
       "    <tr>\n",
       "      <th>Rick Riordan</th>\n",
       "      <td>10</td>\n",
       "      <td>4.770000</td>\n",
       "    </tr>\n",
       "    <tr>\n",
       "      <th>Jeff Kinney</th>\n",
       "      <td>12</td>\n",
       "      <td>4.800000</td>\n",
       "    </tr>\n",
       "  </tbody>\n",
       "</table>\n",
       "<p>248 rows × 2 columns</p>\n",
       "</div>"
      ],
      "text/plain": [
       "                 name  user_rating\n",
       "author                            \n",
       "Donna Tartt         1     3.900000\n",
       "Gallup              1     4.000000\n",
       "Gillian Flynn       1     4.000000\n",
       "Muriel Barbery      1     4.000000\n",
       "Chris Cleave        1     4.100000\n",
       "...               ...          ...\n",
       "Bill O'Reilly       6     4.633333\n",
       "Dav Pilkey          6     4.900000\n",
       "Stephenie Meyer     7     4.657143\n",
       "Rick Riordan       10     4.770000\n",
       "Jeff Kinney        12     4.800000\n",
       "\n",
       "[248 rows x 2 columns]"
      ]
     },
     "execution_count": 179,
     "metadata": {},
     "output_type": "execute_result"
    }
   ],
   "source": [
    "# Task 3.20 Відсортуйте датафрейм за зростаючою кількістю книг та зростаючим рейтингом (використовуйте функцію sort_values)\n",
    "# Який автор перший у списку? Donna Tartt\n",
    "df3.sort_values(by=[\"name\", \"user_rating\"], ascending=True)"
   ]
  },
  {
   "cell_type": "code",
   "execution_count": 180,
   "id": "27b83dcc-b710-4e3f-bbfb-264f1fbcd5ca",
   "metadata": {},
   "outputs": [],
   "source": [
    "plt.close(\"all\")"
   ]
  },
  {
   "cell_type": "code",
   "execution_count": 181,
   "id": "66b10915-1912-4503-8cf8-837391253946",
   "metadata": {},
   "outputs": [
    {
     "data": {
      "image/png": "[encoded data removed]",
      "text/plain": [
       "<Figure size 432x288 with 1 Axes>"
      ]
     },
     "metadata": {
      "needs_background": "light"
     },
     "output_type": "display_data"
    }
   ],
   "source": [
    "# Chart 1\n",
    "df = pd.read_csv(bestsellers_csv)\n",
    "df.columns = [\"name\", \"author\", \"user_rating\", \"reviews\", \"price\", \"year\", \"genre\"]\n",
    "ratings = df.groupby([\"year\"])[\"user_rating\"].agg([\"min\", \"max\", \"mean\"])\n",
    "mr = ratings[\"min\"]\n",
    "mx = ratings[\"max\"]\n",
    "mn = ratings[\"mean\"]\n",
    "\n",
    "plt.plot(mr, \"c\", label=\"Min rating\")\n",
    "plt.plot(mx, \"b\", label=\"Max rating\")\n",
    "plt.plot(mn, \"g\", label=\"Average rating\")\n",
    "plt.xlabel(\"Year\", fontsize=\"small\", color=\"midnightblue\")\n",
    "plt.ylabel(\"Rating\", fontsize=\"small\", color=\"midnightblue\")\n",
    "plt.title(\"Динаміка рейтингів\")\n",
    "plt.legend()\n",
    "plt.grid()\n",
    "plt.show()\n",
    "plt.close(\"all\")"
   ]
  },
  {
   "cell_type": "code",
   "execution_count": 182,
   "id": "979e9d30-848c-45e1-bae9-39d19f29beba",
   "metadata": {},
   "outputs": [
    {
     "data": {
      "image/png": "[encoded data removed]",
      "text/plain": [
       "<Figure size 432x288 with 1 Axes>"
      ]
     },
     "metadata": {
      "needs_background": "light"
     },
     "output_type": "display_data"
    }
   ],
   "source": [
    "# Chart 2\n",
    "df = pd.read_csv(bestsellers_csv)\n",
    "df.columns = [\"name\", \"author\", \"user_rating\", \"reviews\", \"price\", \"year\", \"genre\"]\n",
    "prices = df.groupby([\"year\"])[\"price\"].agg(\"mean\")\n",
    "x = prices.index\n",
    "\n",
    "plt.plot(prices, \"b--o\", label=\"Average price\")\n",
    "plt.fill_between(x, prices)\n",
    "plt.xlabel(\"Year\")\n",
    "plt.ylabel(\"Price\")\n",
    "plt.title(\"Динаміка середньої вартості книжки\")\n",
    "plt.legend()\n",
    "plt.grid()\n",
    "plt.show()\n",
    "plt.close(\"all\")"
   ]
  },
  {
   "cell_type": "code",
   "execution_count": 183,
   "id": "54da31ba-bea1-489f-95d0-181a61c96c40",
   "metadata": {},
   "outputs": [
    {
     "data": {
      "image/png": "[encoded data removed]",
      "text/plain": [
       "<Figure size 432x288 with 1 Axes>"
      ]
     },
     "metadata": {},
     "output_type": "display_data"
    }
   ],
   "source": [
    "# Chart 3\n",
    "df = pd.read_csv(bestsellers_csv)\n",
    "df.columns = [\"name\", \"author\", \"user_rating\", \"reviews\", \"price\", \"year\", \"genre\"]\n",
    "genres = df.groupby([\"genre\"])[\"genre\"].count()\n",
    "data = genres.values\n",
    "labels = genres.index\n",
    "plt.title(\"Розподіл за жанрами\", pad=32)\n",
    "plt.pie(\n",
    "    data,\n",
    "    labels=labels,\n",
    "    shadow=False,\n",
    "    explode=[0.10, 0.0],\n",
    "    autopct=\"%.2f%%\",\n",
    "    pctdistance=1.15,\n",
    "    labeldistance=1.35,\n",
    ")\n",
    "\n",
    "\n",
    "plt.show()"
   ]
  }
 ],
 "metadata": {
  "kernelspec": {
   "display_name": "anaconda-2022.05-py39",
   "language": "python",
   "name": "conda-env-anaconda-2022.05-py39-py"
  },
  "language_info": {
   "codemirror_mode": {
    "name": "ipython",
    "version": 3
   },
   "file_extension": ".py",
   "mimetype": "text/x-python",
   "name": "python",
   "nbconvert_exporter": "python",
   "pygments_lexer": "ipython3",
   "version": "3.9.12"
  }
 },
 "nbformat": 4,
 "nbformat_minor": 5
}
