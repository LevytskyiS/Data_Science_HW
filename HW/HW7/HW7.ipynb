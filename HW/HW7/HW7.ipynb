{
 "cells": [
  {
   "cell_type": "code",
   "execution_count": 51,
   "id": "b32784df-a338-49d8-8129-cbf372e13e37",
   "metadata": {},
   "outputs": [],
   "source": [
    "from surprise import SVD, SVDpp, NMF\n",
    "from surprise import Dataset, Reader\n",
    "from surprise import accuracy\n",
    "from surprise.model_selection import cross_validate\n",
    "from scipy.io import loadmat\n",
    "import numpy as np\n",
    "import matplotlib.pyplot as plt"
   ]
  },
  {
   "cell_type": "code",
   "execution_count": 52,
   "id": "c3cea8aa-c4b6-4740-a8eb-a9419d5e9d8e",
   "metadata": {},
   "outputs": [],
   "source": [
    "reader = Reader()\n",
    "data = Dataset.load_from_file(\"ml-100k/u.data\", reader)"
   ]
  },
  {
   "cell_type": "code",
   "execution_count": 63,
   "id": "dd6c6919-3608-4439-9d64-54df7c44c986",
   "metadata": {},
   "outputs": [],
   "source": [
    "# SVD\n",
    "algo = SVD()"
   ]
  },
  {
   "cell_type": "code",
   "execution_count": 64,
   "id": "a1a6c5af-a4d7-4c90-b423-e6d299a0cd56",
   "metadata": {},
   "outputs": [
    {
     "name": "stdout",
     "output_type": "stream",
     "text": [
      "Evaluating RMSE, MAE of algorithm SVD on 5 split(s).\n",
      "\n",
      "                  Fold 1  Fold 2  Fold 3  Fold 4  Fold 5  Mean    Std     \n",
      "RMSE (testset)    0.9276  0.9382  0.9328  0.9482  0.9375  0.9369  0.0068  \n",
      "MAE (testset)     0.7325  0.7402  0.7351  0.7460  0.7390  0.7386  0.0046  \n",
      "Fit time          0.73    0.75    0.75    0.79    0.74    0.75    0.02    \n",
      "Test time         0.09    0.09    0.09    0.09    0.22    0.11    0.05    \n"
     ]
    }
   ],
   "source": [
    "resultSVD = cross_validate(algo, data, measures=[\"RMSE\", \"MAE\"], cv=5, verbose=True)"
   ]
  },
  {
   "cell_type": "code",
   "execution_count": 65,
   "id": "76697fed-807c-4e90-9db3-0a16d0bd9431",
   "metadata": {},
   "outputs": [],
   "source": [
    "meanSVD_rmse = resultSVD['test_rmse'].mean()"
   ]
  },
  {
   "cell_type": "code",
   "execution_count": 66,
   "id": "505964a2-6501-4839-ad39-a2e65e0fffa3",
   "metadata": {},
   "outputs": [
    {
     "data": {
      "text/plain": [
       "0.9368569466125726"
      ]
     },
     "execution_count": 66,
     "metadata": {},
     "output_type": "execute_result"
    }
   ],
   "source": [
    "meanSVD_rmse"
   ]
  },
  {
   "cell_type": "code",
   "execution_count": 67,
   "id": "34338af4-6ece-43c2-af0b-05cc3cd61797",
   "metadata": {},
   "outputs": [],
   "source": [
    "meanSVD_mae = resultSVD['test_mae'].mean()"
   ]
  },
  {
   "cell_type": "code",
   "execution_count": 68,
   "id": "0dc83260-4f6c-48a9-82f9-fd3fd449ccfd",
   "metadata": {},
   "outputs": [
    {
     "data": {
      "text/plain": [
       "0.738562999448935"
      ]
     },
     "execution_count": 68,
     "metadata": {},
     "output_type": "execute_result"
    }
   ],
   "source": [
    "meanSVD_mae"
   ]
  },
  {
   "cell_type": "code",
   "execution_count": 70,
   "id": "5c1c1fb1-8173-4fd6-abac-0794b3486ab1",
   "metadata": {},
   "outputs": [],
   "source": [
    "# NMF\n",
    "algoNMF = NMF()"
   ]
  },
  {
   "cell_type": "code",
   "execution_count": 71,
   "id": "c7ba59f0-deba-4da6-a0a4-7df1b4375c2d",
   "metadata": {},
   "outputs": [
    {
     "name": "stdout",
     "output_type": "stream",
     "text": [
      "Evaluating RMSE, MAE of algorithm NMF on 5 split(s).\n",
      "\n",
      "                  Fold 1  Fold 2  Fold 3  Fold 4  Fold 5  Mean    Std     \n",
      "RMSE (testset)    0.9647  0.9569  0.9637  0.9627  0.9618  0.9620  0.0027  \n",
      "MAE (testset)     0.7562  0.7526  0.7567  0.7576  0.7559  0.7558  0.0017  \n",
      "Fit time          0.92    0.92    1.00    0.92    0.95    0.94    0.03    \n",
      "Test time         0.07    0.08    0.08    0.21    0.07    0.10    0.05    \n"
     ]
    }
   ],
   "source": [
    "resultNMF = cross_validate(algoNMF, data, measures=['RMSE', 'MAE'], cv=5, verbose=True)"
   ]
  },
  {
   "cell_type": "code",
   "execution_count": 72,
   "id": "b337880b-6d8f-433c-b6c7-f9bc1a55f339",
   "metadata": {},
   "outputs": [],
   "source": [
    "meanNMF_rmse = resultNMF['test_rmse'].mean()"
   ]
  },
  {
   "cell_type": "code",
   "execution_count": 73,
   "id": "06cf4a14-5e84-471f-998d-06009139d74e",
   "metadata": {},
   "outputs": [
    {
     "data": {
      "text/plain": [
       "0.9619738132246993"
      ]
     },
     "execution_count": 73,
     "metadata": {},
     "output_type": "execute_result"
    }
   ],
   "source": [
    "meanNMF_rmse"
   ]
  },
  {
   "cell_type": "code",
   "execution_count": 74,
   "id": "75bbd333-9b3b-4165-8e95-bd5e12af25b5",
   "metadata": {},
   "outputs": [],
   "source": [
    "meanNMF_mae = resultNMF['test_mae'].mean()"
   ]
  },
  {
   "cell_type": "code",
   "execution_count": 75,
   "id": "7b811b39-c22c-4e22-9b4a-9cd1f73c9d8b",
   "metadata": {},
   "outputs": [
    {
     "data": {
      "text/plain": [
       "0.755775249272966"
      ]
     },
     "execution_count": 75,
     "metadata": {},
     "output_type": "execute_result"
    }
   ],
   "source": [
    "meanNMF_mae"
   ]
  },
  {
   "cell_type": "code",
   "execution_count": 76,
   "id": "cf01fa10-688c-4907-95c6-cc471aaa55d3",
   "metadata": {},
   "outputs": [],
   "source": [
    "# SVD++\n",
    "algoSVDpp = SVDpp()"
   ]
  },
  {
   "cell_type": "code",
   "execution_count": 77,
   "id": "1b17595f-b2b3-47fe-a51f-75a97f1108ae",
   "metadata": {},
   "outputs": [
    {
     "name": "stdout",
     "output_type": "stream",
     "text": [
      "Evaluating RMSE, MAE of algorithm SVDpp on 5 split(s).\n",
      "\n",
      "                  Fold 1  Fold 2  Fold 3  Fold 4  Fold 5  Mean    Std     \n",
      "RMSE (testset)    0.9160  0.9184  0.9201  0.9185  0.9198  0.9185  0.0014  \n",
      "MAE (testset)     0.7160  0.7224  0.7238  0.7181  0.7231  0.7207  0.0031  \n",
      "Fit time          19.25   19.82   19.31   19.35   19.63   19.47   0.22    \n",
      "Test time         2.66    2.79    2.88    2.87    2.60    2.76    0.11    \n"
     ]
    }
   ],
   "source": [
    "resultSVDpp = cross_validate(algoSVDpp, data, measures=['RMSE', 'MAE'], cv=5, verbose=True)"
   ]
  },
  {
   "cell_type": "code",
   "execution_count": 78,
   "id": "e450ac0c-a0ba-420b-a41b-30e5982a783f",
   "metadata": {},
   "outputs": [],
   "source": [
    "meanSVDpp_rmse = resultSVDpp['test_rmse'].mean()"
   ]
  },
  {
   "cell_type": "code",
   "execution_count": 79,
   "id": "961e62d7-dc28-4606-80b4-f590af96ea77",
   "metadata": {},
   "outputs": [
    {
     "data": {
      "text/plain": [
       "0.9185262817841429"
      ]
     },
     "execution_count": 79,
     "metadata": {},
     "output_type": "execute_result"
    }
   ],
   "source": [
    "meanSVDpp_rmse"
   ]
  },
  {
   "cell_type": "code",
   "execution_count": 80,
   "id": "6391b6e2-8c88-46b4-b17c-b147894f672c",
   "metadata": {},
   "outputs": [],
   "source": [
    "meanSVDpp_mae = resultSVDpp['test_mae'].mean()"
   ]
  },
  {
   "cell_type": "code",
   "execution_count": 81,
   "id": "bce2cea5-e131-40ed-b3c8-dc01aa696c00",
   "metadata": {},
   "outputs": [
    {
     "data": {
      "text/plain": [
       "0.7207081571545049"
      ]
     },
     "execution_count": 81,
     "metadata": {},
     "output_type": "execute_result"
    }
   ],
   "source": [
    "meanSVDpp_mae"
   ]
  },
  {
   "cell_type": "code",
   "execution_count": 83,
   "id": "6eacf342-35f0-4d19-a97d-ac71ba79e0fa",
   "metadata": {},
   "outputs": [
    {
     "data": {
      "text/plain": [
       "'\"\\nВыводы:\\n\\nSVD даёт сренее значение RMSE приблизительно 0.937 и средне значение MAE 0.739. У NMF и SVD++ - 0.962; 0.756 и 0.919; 0.721 соответсвтенно. \\n\\nSVD++ даёт лучшую точность в сравнении с SVD и NMF.\\n'"
      ]
     },
     "execution_count": 83,
     "metadata": {},
     "output_type": "execute_result"
    }
   ],
   "source": [
    "\"\"\"\"\n",
    "Выводы:\n",
    "\n",
    "SVD даёт сренее значение RMSE приблизительно 0.937 и средне значение MAE 0.739. У NMF и SVD++ - 0.962; 0.756 и 0.919; 0.721 соответсвтенно. \n",
    "\n",
    "SVD++ даёт лучшую точность в сравнении с SVD и NMF.\n",
    "\"\"\""
   ]
  }
 ],
 "metadata": {
  "kernelspec": {
   "display_name": "anaconda-panel-2023.05-py310",
   "language": "python",
   "name": "conda-env-anaconda-panel-2023.05-py310-py"
  },
  "language_info": {
   "codemirror_mode": {
    "name": "ipython",
    "version": 3
   },
   "file_extension": ".py",
   "mimetype": "text/x-python",
   "name": "python",
   "nbconvert_exporter": "python",
   "pygments_lexer": "ipython3",
   "version": "3.11.4"
  }
 },
 "nbformat": 4,
 "nbformat_minor": 5
}
