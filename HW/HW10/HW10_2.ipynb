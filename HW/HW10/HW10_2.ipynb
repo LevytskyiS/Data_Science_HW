{
  "nbformat": 4,
  "nbformat_minor": 0,
  "metadata": {
    "colab": {
      "provenance": [],
      "toc_visible": true
    },
    "kernelspec": {
      "name": "python3",
      "display_name": "Python 3"
    },
    "language_info": {
      "name": "python"
    }
  },
  "cells": [
    {
      "cell_type": "code",
      "execution_count": 38,
      "metadata": {
        "id": "8DdK8ZgOUeCt"
      },
      "outputs": [],
      "source": [
        "import pandas as pd\n",
        "import numpy as np\n",
        "import tensorflow as tf\n",
        "import matplotlib.pyplot as plt\n",
        "\n",
        "from keras.applications.vgg16 import VGG16\n",
        "from keras.datasets import fashion_mnist\n",
        "from keras.utils import to_categorical\n",
        "from keras.layers import Flatten, Dense\n",
        "from keras.models import Sequential\n",
        "from keras.optimizers import Adam"
      ]
    },
    {
      "cell_type": "code",
      "source": [
        "(X_train, y_train), (X_test, y_test) = fashion_mnist.load_data()"
      ],
      "metadata": {
        "id": "7fpMJja6Un7M"
      },
      "execution_count": 39,
      "outputs": []
    },
    {
      "cell_type": "code",
      "source": [
        "X_train.shape, X_test.shape"
      ],
      "metadata": {
        "colab": {
          "base_uri": "https://localhost:8080/"
        },
        "id": "XIW2ugadUsdG",
        "outputId": "10ac7f4c-1857-4c1c-e1b7-276b9f7369a3"
      },
      "execution_count": 40,
      "outputs": [
        {
          "output_type": "execute_result",
          "data": {
            "text/plain": [
              "((60000, 28, 28), (10000, 28, 28))"
            ]
          },
          "metadata": {},
          "execution_count": 40
        }
      ]
    },
    {
      "cell_type": "code",
      "source": [
        "# Resize the images 32*32 as required by VGG16\n",
        "X_train = tf.image.resize(np.array(X_train)[..., tf.newaxis], (32, 32))\n",
        "X_train = np.repeat(X_train, 3, axis=-1)\n",
        "X_test = tf.image.resize(np.array(X_test)[..., tf.newaxis], (32, 32))\n",
        "X_test = np.repeat(X_test, 3, axis=-1)\n",
        "\n",
        "# Change pixel values from (0, 255) to (0, 1)\n",
        "X_train = np.array(X_train) / 255.0\n",
        "X_test = np.array(X_test) / 255.0"
      ],
      "metadata": {
        "id": "R4DDs7cAUu8W"
      },
      "execution_count": 41,
      "outputs": []
    },
    {
      "cell_type": "code",
      "source": [
        "X_train.shape, X_test.shape"
      ],
      "metadata": {
        "colab": {
          "base_uri": "https://localhost:8080/"
        },
        "id": "V5xdut3KWInj",
        "outputId": "7f4c288e-0803-48b9-c07e-07ccbb1af49a"
      },
      "execution_count": 42,
      "outputs": [
        {
          "output_type": "execute_result",
          "data": {
            "text/plain": [
              "((60000, 32, 32, 3), (10000, 32, 32, 3))"
            ]
          },
          "metadata": {},
          "execution_count": 42
        }
      ]
    },
    {
      "cell_type": "code",
      "source": [
        "# Converting Labels to one hot encoded format\n",
        "num_classes = 10\n",
        "y_train = to_categorical(y_train, num_classes)\n",
        "y_test = to_categorical(y_test, num_classes)"
      ],
      "metadata": {
        "id": "iy23sM5tWOWs"
      },
      "execution_count": 43,
      "outputs": []
    },
    {
      "cell_type": "code",
      "source": [
        "conv_base = VGG16(weights='imagenet', include_top=False, input_shape=(32, 32, 3))\n",
        "conv_base.trainable = False"
      ],
      "metadata": {
        "colab": {
          "base_uri": "https://localhost:8080/"
        },
        "id": "uYyRov6RWQVL",
        "outputId": "f370ad31-deb0-49f4-9abc-c86fcfefe105"
      },
      "execution_count": 44,
      "outputs": [
        {
          "output_type": "stream",
          "name": "stdout",
          "text": [
            "Downloading data from https://storage.googleapis.com/tensorflow/keras-applications/vgg16/vgg16_weights_tf_dim_ordering_tf_kernels_notop.h5\n",
            "58889256/58889256 [==============================] - 2s 0us/step\n"
          ]
        }
      ]
    },
    {
      "cell_type": "code",
      "source": [
        "model = Sequential()\n",
        "model.add(conv_base)\n",
        "model.add(Flatten())\n",
        "model.add(Dense(256, activation=\"relu\"))\n",
        "model.add(Dense(10, activation=\"softmax\"))"
      ],
      "metadata": {
        "id": "wrDdh19yWR_I"
      },
      "execution_count": 45,
      "outputs": []
    },
    {
      "cell_type": "code",
      "source": [
        "model.compile(optimizer=Adam(), loss='categorical_crossentropy', metrics=['accuracy'])"
      ],
      "metadata": {
        "id": "p_VlU9-WWUb3"
      },
      "execution_count": 46,
      "outputs": []
    },
    {
      "cell_type": "code",
      "source": [
        "history = model.fit(\n",
        "    X_train, y_train, epochs=8, verbose=1, batch_size=128, validation_split=0.2\n",
        ")"
      ],
      "metadata": {
        "colab": {
          "base_uri": "https://localhost:8080/"
        },
        "id": "10e9QUJlWWJE",
        "outputId": "3d49067d-39a1-4e19-92ed-1a47c9b9482e"
      },
      "execution_count": 47,
      "outputs": [
        {
          "output_type": "stream",
          "name": "stdout",
          "text": [
            "Epoch 1/8\n",
            "375/375 [==============================] - 796s 2s/step - loss: 0.6136 - accuracy: 0.7880 - val_loss: 0.4855 - val_accuracy: 0.8246\n",
            "Epoch 2/8\n",
            "375/375 [==============================] - 790s 2s/step - loss: 0.4342 - accuracy: 0.8427 - val_loss: 0.4301 - val_accuracy: 0.8447\n",
            "Epoch 3/8\n",
            "375/375 [==============================] - 788s 2s/step - loss: 0.4001 - accuracy: 0.8550 - val_loss: 0.4174 - val_accuracy: 0.8468\n",
            "Epoch 4/8\n",
            "375/375 [==============================] - 782s 2s/step - loss: 0.3742 - accuracy: 0.8631 - val_loss: 0.3996 - val_accuracy: 0.8525\n",
            "Epoch 5/8\n",
            "375/375 [==============================] - 721s 2s/step - loss: 0.3575 - accuracy: 0.8691 - val_loss: 0.4033 - val_accuracy: 0.8536\n",
            "Epoch 6/8\n",
            "375/375 [==============================] - 779s 2s/step - loss: 0.3434 - accuracy: 0.8739 - val_loss: 0.3902 - val_accuracy: 0.8605\n",
            "Epoch 7/8\n",
            "375/375 [==============================] - 720s 2s/step - loss: 0.3327 - accuracy: 0.8787 - val_loss: 0.3833 - val_accuracy: 0.8583\n",
            "Epoch 8/8\n",
            "375/375 [==============================] - 781s 2s/step - loss: 0.3227 - accuracy: 0.8812 - val_loss: 0.3707 - val_accuracy: 0.8665\n"
          ]
        }
      ]
    },
    {
      "cell_type": "code",
      "source": [
        "results = model.evaluate(X_test, y_test)\n",
        "print(results)"
      ],
      "metadata": {
        "colab": {
          "base_uri": "https://localhost:8080/"
        },
        "id": "ns4qApdbWYkf",
        "outputId": "6788444e-de33-4895-f4ab-0db1d0121117"
      },
      "execution_count": 48,
      "outputs": [
        {
          "output_type": "stream",
          "name": "stdout",
          "text": [
            "313/313 [==============================] - 130s 412ms/step - loss: 0.3763 - accuracy: 0.8665\n",
            "[0.3762805759906769, 0.8665000200271606]\n"
          ]
        }
      ]
    },
    {
      "cell_type": "code",
      "source": [
        "pd.DataFrame(history.history).plot(figsize=(8, 5))\n",
        "plt.grid(True)\n",
        "plt.gca().set_ylim(0, 1)\n",
        "plt.show()"
      ],
      "metadata": {
        "colab": {
          "base_uri": "https://localhost:8080/",
          "height": 451
        },
        "id": "mpvQowpqIHEg",
        "outputId": "c8c8cfe8-5dce-4787-a1b0-96b6e14a3883"
      },
      "execution_count": 49,
      "outputs": [
        {
          "output_type": "display_data",
          "data": {
            "text/plain": [
              "<Figure size 800x500 with 1 Axes>"
            ],
            "image/png": "[encoded data removed]"
          },
          "metadata": {}
        }
      ]
    },
    {
      "cell_type": "code",
      "source": [
        "conv_base.summary()"
      ],
      "metadata": {
        "colab": {
          "base_uri": "https://localhost:8080/"
        },
        "id": "cKXrfKuRIzyC",
        "outputId": "dc6dd62a-bc0a-4642-8a95-c220c9421673"
      },
      "execution_count": 50,
      "outputs": [
        {
          "output_type": "stream",
          "name": "stdout",
          "text": [
            "Model: \"vgg16\"\n",
            "_________________________________________________________________\n",
            " Layer (type)                Output Shape              Param #   \n",
            "=================================================================\n",
            " input_1 (InputLayer)        [(None, 32, 32, 3)]       0         \n",
            "                                                                 \n",
            " block1_conv1 (Conv2D)       (None, 32, 32, 64)        1792      \n",
            "                                                                 \n",
            " block1_conv2 (Conv2D)       (None, 32, 32, 64)        36928     \n",
            "                                                                 \n",
            " block1_pool (MaxPooling2D)  (None, 16, 16, 64)        0         \n",
            "                                                                 \n",
            " block2_conv1 (Conv2D)       (None, 16, 16, 128)       73856     \n",
            "                                                                 \n",
            " block2_conv2 (Conv2D)       (None, 16, 16, 128)       147584    \n",
            "                                                                 \n",
            " block2_pool (MaxPooling2D)  (None, 8, 8, 128)         0         \n",
            "                                                                 \n",
            " block3_conv1 (Conv2D)       (None, 8, 8, 256)         295168    \n",
            "                                                                 \n",
            " block3_conv2 (Conv2D)       (None, 8, 8, 256)         590080    \n",
            "                                                                 \n",
            " block3_conv3 (Conv2D)       (None, 8, 8, 256)         590080    \n",
            "                                                                 \n",
            " block3_pool (MaxPooling2D)  (None, 4, 4, 256)         0         \n",
            "                                                                 \n",
            " block4_conv1 (Conv2D)       (None, 4, 4, 512)         1180160   \n",
            "                                                                 \n",
            " block4_conv2 (Conv2D)       (None, 4, 4, 512)         2359808   \n",
            "                                                                 \n",
            " block4_conv3 (Conv2D)       (None, 4, 4, 512)         2359808   \n",
            "                                                                 \n",
            " block4_pool (MaxPooling2D)  (None, 2, 2, 512)         0         \n",
            "                                                                 \n",
            " block5_conv1 (Conv2D)       (None, 2, 2, 512)         2359808   \n",
            "                                                                 \n",
            " block5_conv2 (Conv2D)       (None, 2, 2, 512)         2359808   \n",
            "                                                                 \n",
            " block5_conv3 (Conv2D)       (None, 2, 2, 512)         2359808   \n",
            "                                                                 \n",
            " block5_pool (MaxPooling2D)  (None, 1, 1, 512)         0         \n",
            "                                                                 \n",
            "=================================================================\n",
            "Total params: 14,714,688\n",
            "Trainable params: 0\n",
            "Non-trainable params: 14,714,688\n",
            "_________________________________________________________________\n"
          ]
        }
      ]
    },
    {
      "cell_type": "code",
      "source": [
        "for i, layer in enumerate(model.layers):\n",
        "    layer._name = 'layer_' + str(i)\n",
        "\n",
        "\n",
        "conv_base = VGG16(weights='imagenet', include_top=False, input_shape=(32, 32, 3))\n",
        "\n",
        "\n",
        "conv_base.trainable = True\n",
        "set_trainable = False\n",
        "for layer in conv_base.layers:\n",
        "    if layer.name == \"block5_conv1\":\n",
        "        set_trainable = True\n",
        "    if set_trainable:\n",
        "        layer.trainable = True\n",
        "    else:\n",
        "        layer.trainable = False\n",
        "\n",
        "\n",
        "modified_model = Sequential([\n",
        "   conv_base,\n",
        "   Flatten(),\n",
        "   Dense(256, activation=\"relu\"),\n",
        "   Dense(10, activation=\"softmax\"),\n",
        "])"
      ],
      "metadata": {
        "id": "kbo7OiutI2LQ"
      },
      "execution_count": 51,
      "outputs": []
    },
    {
      "cell_type": "code",
      "source": [
        "model.compile(\n",
        "    optimizer=Adam(learning_rate=0.0001),\n",
        "    loss='categorical_crossentropy',\n",
        "    metrics=['accuracy'])\n",
        "\n",
        "\n",
        "history = model.fit(\n",
        "    X_train, y_train, epochs=2, verbose=1, batch_size=128, validation_split=0.2\n",
        ")"
      ],
      "metadata": {
        "colab": {
          "base_uri": "https://localhost:8080/"
        },
        "id": "NUIuNSUpI5sD",
        "outputId": "317ed674-720b-47db-b496-482d1147c275"
      },
      "execution_count": 52,
      "outputs": [
        {
          "output_type": "stream",
          "name": "stdout",
          "text": [
            "Epoch 1/2\n",
            "375/375 [==============================] - 802s 2s/step - loss: 0.2902 - accuracy: 0.8934 - val_loss: 0.3545 - val_accuracy: 0.8711\n",
            "Epoch 2/2\n",
            "375/375 [==============================] - 779s 2s/step - loss: 0.2861 - accuracy: 0.8955 - val_loss: 0.3521 - val_accuracy: 0.8725\n"
          ]
        }
      ]
    },
    {
      "cell_type": "code",
      "source": [
        "results = model.evaluate(X_test, y_test)\n",
        "print(results)"
      ],
      "metadata": {
        "colab": {
          "base_uri": "https://localhost:8080/"
        },
        "id": "dB6j_70_I8Q7",
        "outputId": "2574b95c-7ee9-4683-9dba-26bb70d0139c"
      },
      "execution_count": 53,
      "outputs": [
        {
          "output_type": "stream",
          "name": "stdout",
          "text": [
            "313/313 [==============================] - 134s 426ms/step - loss: 0.3606 - accuracy: 0.8695\n",
            "[0.36058762669563293, 0.8694999814033508]\n"
          ]
        }
      ]
    },
    {
      "cell_type": "code",
      "source": [
        "# Вывод:\n",
        "# сравнивая обычную оберточную сеть и оберточную сеть, которая использует VGG16 в качестве оберточной основы, можно заметить, что\n",
        "# обычная сеть показала большую точность при одинаковом размере батча и одинаковом количестве учебных эпох."
      ],
      "metadata": {
        "id": "mTzct99IQAQG"
      },
      "execution_count": 54,
      "outputs": []
    }
  ]
}