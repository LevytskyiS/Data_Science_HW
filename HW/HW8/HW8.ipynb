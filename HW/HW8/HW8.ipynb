{
 "cells": [
  {
   "cell_type": "markdown",
   "metadata": {
    "id": "b0Yf4NBJUSNM"
   },
   "source": [
    "# Создание нейронной сети\n",
    "\n",
    "В этом задании мы создадим полносвязную нейронную сеть используя при этом низкоуровневые механизмы tensorflow.\n",
    "\n",
    "Архитектутра нейросети представлена на следующем рисунке. Как видите, в ней имеется один входной слой, два скрытых, а так же выходной слой. В качестве активационной функции в скрытых слоях будет использоваться сигмоида. На выходном слое мы используем softmax.\n",
    "\n",
    "Часть кода по созданию сети уже написана, от вас требуется заполнить пропуски в указанных местах."
   ]
  },
  {
   "cell_type": "markdown",
   "metadata": {
    "id": "01rZWUu0USNQ"
   },
   "source": [
    "## Архитектура нейронной сети\n",
    "\n",
    "<img src=\"http://cs231n.github.io/assets/nn1/neural_net2.jpeg\" alt=\"nn\" style=\"width: 400px;\"/>\n"
   ]
  },
  {
   "cell_type": "markdown",
   "metadata": {
    "id": "LLvIZ705Qw_V"
   },
   "source": [
    "## О датасете MNIST\n",
    "\n",
    "Данную нейросеть мы будем обучать на датасете MNIST. Этот датасет представляет собой большое количество изображений рукописных цифр размером $28 \\times 28$ пикселей. Каждый пиксель принимает значение от 0 до 255.\n",
    "\n",
    "Как и раньше датасет будет разеделен на обучающую и тестовую выборки. При этом мы выполним нормализацию всех изображений, чтобы значения пикселей находились в промежутке от 0 до 1, разделив яркость каждого пикселя на 255.\n",
    "\n",
    "Кроме того, архитектура нейронной сети ожидает на вход вектор. В нашем же случае каждый объект выборки представляет собой матрицу. Что же делать? В этом задании мы \"растянем\" матрицу $28 \\times 28$, получив при этом вектор, состоящей из 784 элементов.\n",
    "\n",
    "![MNIST Dataset](https://www.researchgate.net/profile/Steven-Young-5/publication/306056875/figure/fig1/AS:393921575309346@1470929630835/Example-images-from-the-MNIST-dataset.png)\n",
    "\n",
    "Больше информации о датасете можно найти [здесь](http://yann.lecun.com/exdb/mnist/)."
   ]
  },
  {
   "cell_type": "code",
   "execution_count": 3,
   "metadata": {},
   "outputs": [
    {
     "name": "stdout",
     "output_type": "stream",
     "text": [
      "Defaulting to user installation because normal site-packages is not writeable\n",
      "Looking in links: /usr/share/pip-wheels\n",
      "Collecting tensorflow\n",
      "  Downloading tensorflow-2.13.0-cp39-cp39-manylinux_2_17_x86_64.manylinux2014_x86_64.whl (524.1 MB)\n",
      "\u001b[K     |████████████████████████████████| 524.1 MB 2.1 kB/s  eta 0:00:012    |██████▏                         | 100.9 MB 22.8 MB/s eta 0:00:19| 253.5 MB 118.2 MB/s eta 0:00:03360.3 MB 2.8 MB/s eta 0:00:59�▊        | 389.4 MB 1.2 MB/s eta 0:01:52��█████████████▉    | 455.1 MB 19.8 MB/s eta 0:00:04��█████████████████████████   | 475.6 MB 19.8 MB/s eta 0:00:03��███████▉  | 488.3 MB 19.8 MB/s eta 0:00:02     |███████████████████████████████ | 506.7 MB 19.8 MB/s eta 0:00:01\n",
      "\u001b[?25hRequirement already satisfied: six>=1.12.0 in /opt/conda/envs/anaconda-2022.05-py39/lib/python3.9/site-packages (from tensorflow) (1.16.0)\n",
      "Collecting tensorflow-io-gcs-filesystem>=0.23.1\n",
      "  Downloading tensorflow_io_gcs_filesystem-0.32.0-cp39-cp39-manylinux_2_12_x86_64.manylinux2010_x86_64.whl (2.4 MB)\n",
      "\u001b[K     |████████████████████████████████| 2.4 MB 15.7 MB/s eta 0:00:01\n",
      "\u001b[?25hCollecting flatbuffers>=23.1.21\n",
      "  Downloading flatbuffers-23.5.26-py2.py3-none-any.whl (26 kB)\n",
      "Requirement already satisfied: wrapt>=1.11.0 in /opt/conda/envs/anaconda-2022.05-py39/lib/python3.9/site-packages (from tensorflow) (1.12.1)\n",
      "Requirement already satisfied: grpcio<2.0,>=1.24.3 in /opt/conda/envs/anaconda-2022.05-py39/lib/python3.9/site-packages (from tensorflow) (1.42.0)\n",
      "Collecting gast<=0.4.0,>=0.2.1\n",
      "  Downloading gast-0.4.0-py3-none-any.whl (9.8 kB)\n",
      "Requirement already satisfied: h5py>=2.9.0 in /opt/conda/envs/anaconda-2022.05-py39/lib/python3.9/site-packages (from tensorflow) (3.6.0)\n",
      "Collecting numpy<=1.24.3,>=1.22\n",
      "  Downloading numpy-1.24.3-cp39-cp39-manylinux_2_17_x86_64.manylinux2014_x86_64.whl (17.3 MB)\n",
      "\u001b[K     |████████████████████████████████| 17.3 MB 59 kB/s s eta 0:00:01\n",
      "\u001b[?25hRequirement already satisfied: packaging in /opt/conda/envs/anaconda-2022.05-py39/lib/python3.9/site-packages (from tensorflow) (21.3)\n",
      "Collecting absl-py>=1.0.0\n",
      "  Downloading absl_py-1.4.0-py3-none-any.whl (126 kB)\n",
      "\u001b[K     |████████████████████████████████| 126 kB 28.6 MB/s eta 0:00:01\n",
      "\u001b[?25hCollecting astunparse>=1.6.0\n",
      "  Downloading astunparse-1.6.3-py2.py3-none-any.whl (12 kB)\n",
      "Collecting keras<2.14,>=2.13.1\n",
      "  Downloading keras-2.13.1-py3-none-any.whl (1.7 MB)\n",
      "\u001b[K     |████████████████████████████████| 1.7 MB 27.9 MB/s eta 0:00:01\n",
      "\u001b[?25hCollecting protobuf!=4.21.0,!=4.21.1,!=4.21.2,!=4.21.3,!=4.21.4,!=4.21.5,<5.0.0dev,>=3.20.3\n",
      "  Downloading protobuf-4.23.4-cp37-abi3-manylinux2014_x86_64.whl (304 kB)\n",
      "\u001b[K     |████████████████████████████████| 304 kB 27.0 MB/s eta 0:00:01\n",
      "\u001b[?25hRequirement already satisfied: setuptools in /opt/conda/envs/anaconda-2022.05-py39/lib/python3.9/site-packages (from tensorflow) (61.2.0)\n",
      "Collecting tensorboard<2.14,>=2.13\n",
      "  Downloading tensorboard-2.13.0-py3-none-any.whl (5.6 MB)\n",
      "\u001b[K     |████████████████████████████████| 5.6 MB 20.2 MB/s eta 0:00:01\n",
      "\u001b[?25hCollecting libclang>=13.0.0\n",
      "  Downloading libclang-16.0.6-py2.py3-none-manylinux2010_x86_64.whl (22.9 MB)\n",
      "\u001b[K     |████████████████████████████████| 22.9 MB 56 kB/s s eta 0:00:01\n",
      "\u001b[?25hCollecting google-pasta>=0.1.1\n",
      "  Downloading google_pasta-0.2.0-py3-none-any.whl (57 kB)\n",
      "\u001b[K     |████████████████████████████████| 57 kB 1.9 MB/s  eta 0:00:01\n",
      "\u001b[?25hCollecting termcolor>=1.1.0\n",
      "  Downloading termcolor-2.3.0-py3-none-any.whl (6.9 kB)\n",
      "Collecting opt-einsum>=2.3.2\n",
      "  Downloading opt_einsum-3.3.0-py3-none-any.whl (65 kB)\n",
      "\u001b[K     |████████████████████████████████| 65 kB 1.4 MB/s  eta 0:00:01\n",
      "\u001b[?25hCollecting tensorflow-estimator<2.14,>=2.13.0\n",
      "  Downloading tensorflow_estimator-2.13.0-py2.py3-none-any.whl (440 kB)\n",
      "\u001b[K     |████████████████████████████████| 440 kB 28.4 MB/s eta 0:00:01\n",
      "\u001b[?25hRequirement already satisfied: typing-extensions<4.6.0,>=3.6.6 in /opt/conda/envs/anaconda-2022.05-py39/lib/python3.9/site-packages (from tensorflow) (4.1.1)\n",
      "Requirement already satisfied: wheel<1.0,>=0.23.0 in /opt/conda/envs/anaconda-2022.05-py39/lib/python3.9/site-packages (from astunparse>=1.6.0->tensorflow) (0.37.1)\n",
      "Collecting tensorboard-data-server<0.8.0,>=0.7.0\n",
      "  Downloading tensorboard_data_server-0.7.1-py3-none-manylinux2014_x86_64.whl (6.6 MB)\n",
      "\u001b[K     |████████████████████████████████| 6.6 MB 23.2 MB/s eta 0:00:01\n",
      "\u001b[?25hRequirement already satisfied: google-auth<3,>=1.6.3 in /opt/conda/envs/anaconda-2022.05-py39/lib/python3.9/site-packages (from tensorboard<2.14,>=2.13->tensorflow) (1.33.0)\n",
      "Requirement already satisfied: requests<3,>=2.21.0 in /opt/conda/envs/anaconda-2022.05-py39/lib/python3.9/site-packages (from tensorboard<2.14,>=2.13->tensorflow) (2.27.1)\n",
      "Collecting google-auth-oauthlib<1.1,>=0.5\n",
      "  Downloading google_auth_oauthlib-1.0.0-py2.py3-none-any.whl (18 kB)\n",
      "Requirement already satisfied: werkzeug>=1.0.1 in /opt/conda/envs/anaconda-2022.05-py39/lib/python3.9/site-packages (from tensorboard<2.14,>=2.13->tensorflow) (2.0.3)\n",
      "Collecting grpcio<2.0,>=1.24.3\n",
      "  Downloading grpcio-1.56.2-cp39-cp39-manylinux_2_17_x86_64.manylinux2014_x86_64.whl (5.2 MB)\n",
      "\u001b[K     |████████████████████████████████| 5.2 MB 20.2 MB/s eta 0:00:01\n",
      "\u001b[?25hRequirement already satisfied: markdown>=2.6.8 in /opt/conda/envs/anaconda-2022.05-py39/lib/python3.9/site-packages (from tensorboard<2.14,>=2.13->tensorflow) (3.3.4)\n",
      "Requirement already satisfied: rsa<5,>=3.1.4 in /opt/conda/envs/anaconda-2022.05-py39/lib/python3.9/site-packages (from google-auth<3,>=1.6.3->tensorboard<2.14,>=2.13->tensorflow) (4.7.2)\n",
      "Requirement already satisfied: pyasn1-modules>=0.2.1 in /opt/conda/envs/anaconda-2022.05-py39/lib/python3.9/site-packages (from google-auth<3,>=1.6.3->tensorboard<2.14,>=2.13->tensorflow) (0.2.8)\n",
      "Requirement already satisfied: cachetools<5.0,>=2.0.0 in /opt/conda/envs/anaconda-2022.05-py39/lib/python3.9/site-packages (from google-auth<3,>=1.6.3->tensorboard<2.14,>=2.13->tensorflow) (4.2.2)\n",
      "Collecting requests-oauthlib>=0.7.0\n",
      "  Downloading requests_oauthlib-1.3.1-py2.py3-none-any.whl (23 kB)\n",
      "Collecting google-auth<3,>=1.6.3\n",
      "  Downloading google_auth-2.22.0-py2.py3-none-any.whl (181 kB)\n",
      "\u001b[K     |████████████████████████████████| 181 kB 25.5 MB/s eta 0:00:01\n",
      "\u001b[?25hRequirement already satisfied: urllib3<2.0 in /opt/conda/envs/anaconda-2022.05-py39/lib/python3.9/site-packages (from google-auth<3,>=1.6.3->tensorboard<2.14,>=2.13->tensorflow) (1.26.9)\n",
      "Requirement already satisfied: pyasn1<0.5.0,>=0.4.6 in /opt/conda/envs/anaconda-2022.05-py39/lib/python3.9/site-packages (from pyasn1-modules>=0.2.1->google-auth<3,>=1.6.3->tensorboard<2.14,>=2.13->tensorflow) (0.4.8)\n",
      "Requirement already satisfied: charset-normalizer~=2.0.0 in /opt/conda/envs/anaconda-2022.05-py39/lib/python3.9/site-packages (from requests<3,>=2.21.0->tensorboard<2.14,>=2.13->tensorflow) (2.0.4)\n",
      "Requirement already satisfied: certifi>=2017.4.17 in /opt/conda/envs/anaconda-2022.05-py39/lib/python3.9/site-packages (from requests<3,>=2.21.0->tensorboard<2.14,>=2.13->tensorflow) (2021.10.8)\n",
      "Requirement already satisfied: idna<4,>=2.5 in /opt/conda/envs/anaconda-2022.05-py39/lib/python3.9/site-packages (from requests<3,>=2.21.0->tensorboard<2.14,>=2.13->tensorflow) (3.3)\n",
      "Collecting oauthlib>=3.0.0\n",
      "  Downloading oauthlib-3.2.2-py3-none-any.whl (151 kB)\n",
      "\u001b[K     |████████████████████████████████| 151 kB 20.2 MB/s eta 0:00:01\n",
      "\u001b[?25hRequirement already satisfied: pyparsing!=3.0.5,>=2.0.2 in /opt/conda/envs/anaconda-2022.05-py39/lib/python3.9/site-packages (from packaging->tensorflow) (3.0.4)\n",
      "Installing collected packages: oauthlib, requests-oauthlib, google-auth, tensorboard-data-server, protobuf, numpy, grpcio, google-auth-oauthlib, absl-py, termcolor, tensorflow-io-gcs-filesystem, tensorflow-estimator, tensorboard, opt-einsum, libclang, keras, google-pasta, gast, flatbuffers, astunparse, tensorflow\n",
      "\u001b[33m  WARNING: The scripts f2py, f2py3 and f2py3.9 are installed in '/home/f51bb408-352c-4128-9edc-4aa4540a3637/.local/bin' which is not on PATH.\n",
      "  Consider adding this directory to PATH or, if you prefer to suppress this warning, use --no-warn-script-location.\u001b[0m\n",
      "\u001b[33m  WARNING: The script google-oauthlib-tool is installed in '/home/f51bb408-352c-4128-9edc-4aa4540a3637/.local/bin' which is not on PATH.\n",
      "  Consider adding this directory to PATH or, if you prefer to suppress this warning, use --no-warn-script-location.\u001b[0m\n",
      "\u001b[33m  WARNING: The script tensorboard is installed in '/home/f51bb408-352c-4128-9edc-4aa4540a3637/.local/bin' which is not on PATH.\n",
      "  Consider adding this directory to PATH or, if you prefer to suppress this warning, use --no-warn-script-location.\u001b[0m\n",
      "\u001b[33m  WARNING: The scripts estimator_ckpt_converter, import_pb_to_tensorboard, saved_model_cli, tensorboard, tf_upgrade_v2, tflite_convert, toco and toco_from_protos are installed in '/home/f51bb408-352c-4128-9edc-4aa4540a3637/.local/bin' which is not on PATH.\n",
      "  Consider adding this directory to PATH or, if you prefer to suppress this warning, use --no-warn-script-location.\u001b[0m\n",
      "\u001b[31mERROR: pip's dependency resolver does not currently take into account all the packages that are installed. This behaviour is the source of the following dependency conflicts.\n",
      "daal4py 2021.5.0 requires daal==2021.4.0, which is not installed.\n",
      "scipy 1.7.3 requires numpy<1.23.0,>=1.16.5, but you have numpy 1.24.3 which is incompatible.\n",
      "numba 0.55.1 requires numpy<1.22,>=1.18, but you have numpy 1.24.3 which is incompatible.\n",
      "google-cloud-storage 1.31.0 requires google-auth<2.0dev,>=1.11.0, but you have google-auth 2.22.0 which is incompatible.\n",
      "google-cloud-core 1.7.1 requires google-auth<2.0dev,>=1.24.0, but you have google-auth 2.22.0 which is incompatible.\n",
      "google-api-core 1.25.1 requires google-auth<2.0dev,>=1.21.1, but you have google-auth 2.22.0 which is incompatible.\u001b[0m\n",
      "Successfully installed absl-py-1.4.0 astunparse-1.6.3 flatbuffers-23.5.26 gast-0.4.0 google-auth-2.22.0 google-auth-oauthlib-1.0.0 google-pasta-0.2.0 grpcio-1.56.2 keras-2.13.1 libclang-16.0.6 numpy-1.24.3 oauthlib-3.2.2 opt-einsum-3.3.0 protobuf-4.23.4 requests-oauthlib-1.3.1 tensorboard-2.13.0 tensorboard-data-server-0.7.1 tensorflow-2.13.0 tensorflow-estimator-2.13.0 tensorflow-io-gcs-filesystem-0.32.0 termcolor-2.3.0\n",
      "Note: you may need to restart the kernel to use updated packages.\n"
     ]
    }
   ],
   "source": [
    "pip install tensorflow"
   ]
  },
  {
   "cell_type": "code",
   "execution_count": 21,
   "metadata": {
    "id": "il_0_5OyUSNR"
   },
   "outputs": [],
   "source": [
    "import tensorflow as tf\n",
    "import numpy as np\n",
    "import matplotlib.pyplot as plt\n",
    "import random"
   ]
  },
  {
   "cell_type": "code",
   "execution_count": 10,
   "metadata": {
    "id": "cd-1_abTUSNS"
   },
   "outputs": [],
   "source": [
    "num_classes = 10 # общее количество классов, в нашем случае это цифры от 0 до 9\n",
    "num_features = 784 # количество атрибутов входного вектора 28 * 28 = 784\n",
    "\n",
    "learning_rate = 0.001 # скорость обучения нейронной сети\n",
    "training_steps = 3000 # максимальное число эпох\n",
    "batch_size = 256 # пересчитывать веса сети мы будем не на всей выборке, а на ее случайном подможестве из batch_size элементов\n",
    "display_step = 100 # каждые 100 итераций мы будем показывать текущее значение функции потерь и точности\n",
    "\n",
    "n_hidden_1 = 128 # количество нейронов 1-го слоя\n",
    "n_hidden_2 = 256 # количество нейронов 2-го слоя"
   ]
  },
  {
   "cell_type": "code",
   "execution_count": 11,
   "metadata": {
    "id": "pGTXiRyTUSNT"
   },
   "outputs": [
    {
     "name": "stderr",
     "output_type": "stream",
     "text": [
      "2023-07-29 18:24:54.200571: W tensorflow/tsl/framework/cpu_allocator_impl.cc:83] Allocation of 188160000 exceeds 10% of free system memory.\n"
     ]
    }
   ],
   "source": [
    "from tensorflow.keras.datasets import mnist\n",
    "\n",
    "# Загружаем датасет\n",
    "(x_train, y_train), (x_test, y_test) = mnist.load_data()\n",
    "\n",
    "# Преобразуем целочисленные пиксели к типа float32\n",
    "x_train, x_test = np.array(x_train, np.float32), np.array(x_test, np.float32)\n",
    "\n",
    "# Преобразуем матрицы размером 28x28 пикселей в вектор из 784 элементов\n",
    "x_train, x_test = x_train.reshape([-1, num_features]), x_test.reshape([-1, num_features])\n",
    "\n",
    "# Нормализуем значения пикселей\n",
    "x_train, x_test = x_train / 255., x_test / 255.\n",
    "\n",
    "# Перемешаем тренировочные данные\n",
    "train_data = tf.data.Dataset.from_tensor_slices((x_train, y_train))\n",
    "train_data = train_data.repeat().shuffle(5000).batch(batch_size).prefetch(1)"
   ]
  },
  {
   "cell_type": "code",
   "execution_count": 12,
   "metadata": {
    "id": "FkRmCQjnUSNV"
   },
   "outputs": [],
   "source": [
    "# Создадим нейронную сеть\n",
    "\n",
    "class DenseLayer(tf.Module):\n",
    "    def __init__(self, in_features, out_features, name=None):\n",
    "        super().__init__(name=name)\n",
    "        self.w = tf.Variable(\n",
    "          tf.random.normal([in_features, out_features]), name=\"Weight\"\n",
    "        )\n",
    "        self.b = tf.Variable(tf.zeros([out_features]), name=\"Bias\")\n",
    "\n",
    "    def __call__(self, x, activation=0):\n",
    "        y = tf.matmul(x, self.w) + self.b\n",
    "        if activation != 0:\n",
    "            return tf.nn.softmax(y)\n",
    "        else:\n",
    "            return tf.nn.sigmoid(y)\n",
    "\n",
    "\n",
    "class NN(tf.Module):\n",
    "  def __init__(self, name=None):\n",
    "    super().__init__(name=name)\n",
    "    # Первый слой, состоящий из 128 нейронов\n",
    "    # Место для вашего кода\n",
    "    self.layer_2 = DenseLayer(num_features, n_hidden_1)\n",
    "    # Второй слой, состоящий из 256 нейронов\n",
    "    # Место для вашего кода\n",
    "    self.layer_3 = DenseLayer(n_hidden_1, n_hidden_2)\n",
    "    # Выходной слой\n",
    "    # Место для вашего кода\n",
    "    self.out_layer = DenseLayer(n_hidden_2, num_classes)\n",
    "\n",
    "  def __call__(self, x):\n",
    "    # Место для вашего кода\n",
    "    # ...\n",
    "\n",
    "    # Помните что для выхода нейронной сети мы применяем к выходу функцию softmax. \n",
    "    # Делаем мы это для того, чтобы\n",
    "    # выход нейронной сети принимал значения от 0 до 1 в соответствии с вероятностью \n",
    "    # принадлежности входного объекта к одному из 10 классов\n",
    "    x1 = self.layer_2(x, activation=0)\n",
    "    x2 = self.layer_3(x1, activation=0)\n",
    "    x3 = self.out_layer(x2, activation=1)\n",
    "\n",
    "    return x3"
   ]
  },
  {
   "cell_type": "code",
   "execution_count": 13,
   "metadata": {
    "id": "LIf3o7VAUSNV"
   },
   "outputs": [],
   "source": [
    "# В качестве функции ошибки в данном случае удобно взять кросс-энтропию\n",
    "def cross_entropy(y_pred, y_true):\n",
    "    # Encode label to a one hot vector.\n",
    "    y_true = tf.one_hot(y_true, depth=num_classes)\n",
    "    # Clip prediction values to avoid log(0) error.\n",
    "    y_pred = tf.clip_by_value(y_pred, 1e-9, 1.)\n",
    "    # Вычисление кросс-энтропии\n",
    "    return tf.reduce_mean(-tf.reduce_sum(y_true * tf.math.log(y_pred)))\n",
    "\n",
    "# В качестве метрики качества используем точность\n",
    "def accuracy(y_pred, y_true):\n",
    "    corr_pred = tf.equal(tf.argmax(y_pred, 1), tf.cast(y_true, tf.int64))\n",
    "    return tf.reduce_mean(tf.cast(corr_pred, tf.float32))"
   ]
  },
  {
   "cell_type": "code",
   "execution_count": 14,
   "metadata": {
    "id": "MQeT1yatUSNW"
   },
   "outputs": [],
   "source": [
    "# Создадим экзампляр нейронной сети\n",
    "neural_net = NN(name=\"mnist\")\n",
    "optimizer = tf.optimizers.SGD(learning_rate)\n",
    "# Функция обучения нейросети\n",
    "def train(nn, input_x, output_y):\n",
    "  # Для подгонки весов сети будем использовать стохастический градиентный спуск\n",
    "\n",
    "  # Активация автоматического дифференцирования\n",
    "  with tf.GradientTape() as g:\n",
    "    # Модифицируем параметры\n",
    "    pred = neural_net(input_x)\n",
    "    loss = cross_entropy(pred, output_y)\n",
    "    # Создадим оптимизируемых список параметров\n",
    "    loss_2 = tf.reduce_sum([tf.nn.l2_loss(var) for var in neural_net.trainable_variables])\n",
    "    loss += learning_rate * loss_2\n",
    "    # Вычислим по ним значение градиента\n",
    "  gradients = g.gradient(loss, neural_net.trainable_variables)\n",
    "  optimizer.apply_gradients(zip(gradients, neural_net.trainable_variables))"
   ]
  },
  {
   "cell_type": "code",
   "execution_count": 15,
   "metadata": {
    "id": "fnyns9lBfpQZ"
   },
   "outputs": [
    {
     "name": "stderr",
     "output_type": "stream",
     "text": [
      "2023-07-29 18:25:08.504722: W tensorflow/tsl/framework/cpu_allocator_impl.cc:83] Allocation of 188160000 exceeds 10% of free system memory.\n"
     ]
    },
    {
     "name": "stdout",
     "output_type": "stream",
     "text": [
      "Step: 100, loss: 257.4948, accuracy: 0.7188\n",
      "Step: 200, loss: 239.7803, accuracy: 0.7031\n",
      "Step: 300, loss: 166.7434, accuracy: 0.8477\n",
      "Step: 400, loss: 159.4330, accuracy: 0.8086\n",
      "Step: 500, loss: 134.3525, accuracy: 0.8320\n",
      "Step: 600, loss: 141.4730, accuracy: 0.8516\n",
      "Step: 700, loss: 113.3389, accuracy: 0.8711\n",
      "Step: 800, loss: 114.0535, accuracy: 0.8828\n",
      "Step: 900, loss: 105.4125, accuracy: 0.8750\n",
      "Step: 1000, loss: 128.2579, accuracy: 0.8477\n",
      "Step: 1100, loss: 127.5778, accuracy: 0.8516\n",
      "Step: 1200, loss: 116.3827, accuracy: 0.8984\n",
      "Step: 1300, loss: 89.8812, accuracy: 0.8906\n",
      "Step: 1400, loss: 94.7901, accuracy: 0.8594\n",
      "Step: 1500, loss: 95.8057, accuracy: 0.8750\n",
      "Step: 1600, loss: 84.7649, accuracy: 0.8906\n",
      "Step: 1700, loss: 72.5232, accuracy: 0.8984\n",
      "Step: 1800, loss: 79.3088, accuracy: 0.9141\n",
      "Step: 1900, loss: 68.1290, accuracy: 0.9336\n",
      "Step: 2000, loss: 81.9006, accuracy: 0.9062\n",
      "Step: 2100, loss: 75.2355, accuracy: 0.9141\n",
      "Step: 2200, loss: 47.5515, accuracy: 0.9414\n",
      "Step: 2300, loss: 84.0299, accuracy: 0.9062\n",
      "Step: 2400, loss: 63.8939, accuracy: 0.9258\n",
      "Step: 2500, loss: 69.2762, accuracy: 0.9180\n",
      "Step: 2600, loss: 48.0769, accuracy: 0.9453\n",
      "Step: 2700, loss: 50.2214, accuracy: 0.9219\n",
      "Step: 2800, loss: 43.4471, accuracy: 0.9531\n",
      "Step: 2900, loss: 74.2036, accuracy: 0.9141\n",
      "Step: 3000, loss: 58.6520, accuracy: 0.9453\n"
     ]
    }
   ],
   "source": [
    "# Тренировка сети\n",
    "loss_history = []  # каждые display_step шагов сохраняйте в этом список текущую ошибку нейросети\n",
    "accuracy_history = [] # каждые display_step шагов сохраняйте в этом список текущую точность нейросети\n",
    "\n",
    "# В этом цикле мы будем производить обучение нейронной сети\n",
    "# из тренировочного датасета train_data извлеките случайное подмножество, на котором\n",
    "# произведется тренировка. Используйте метод take, доступный для тренировочного датасета.\n",
    "for step, (batch_x, batch_y) in enumerate(train_data.take(training_steps), 1):\n",
    "    # # Обновляем веса нейронной сети\n",
    "    train(neural_net, batch_x, batch_y)\n",
    "\n",
    "    if step % display_step == 0:\n",
    "        pred = neural_net(batch_x)\n",
    "        loss = cross_entropy(pred, batch_y)\n",
    "        acrcy = accuracy(pred, batch_y)\n",
    "        loss_history.append(loss)\n",
    "        accuracy_history.append(acrcy)\n",
    "        print(f\"Step: {step}, loss: {loss:.4f}, accuracy: {acrcy:.4f}\")"
   ]
  },
  {
   "cell_type": "code",
   "execution_count": 17,
   "metadata": {
    "id": "_yCBfG6MbQB2"
   },
   "outputs": [],
   "source": [
    "# Выведите графики зависимости изменения точности и потерь от шага\n",
    "# Если все сделано правильно, то точность должна расти, а потери уменьшаться\n",
    "def show_plt(history, name):\n",
    "    plt.figure(figsize=(16,8))\n",
    "    plt.plot(range(100, 3001, 100), history, linestyle=\":\")\n",
    "    plt.title(f'Dependence {name} on step')\n",
    "    plt.xlabel('step')\n",
    "    plt.ylabel(f'{name}')\n",
    "    plt.grid(True)\n",
    "    plt.show()"
   ]
  },
  {
   "cell_type": "code",
   "execution_count": 18,
   "metadata": {
    "id": "LE3g4gDyUSNY"
   },
   "outputs": [
    {
     "data": {
      "image/png": "[encoded data removed]",
      "text/plain": [
       "<Figure size 1152x576 with 1 Axes>"
      ]
     },
     "metadata": {
      "needs_background": "light"
     },
     "output_type": "display_data"
    }
   ],
   "source": [
    "# Вычислите точность обученной нейросети\n",
    "\n",
    "# Место для вашего кода\n",
    "show_plt(accuracy_history, \"accuracy\")"
   ]
  },
  {
   "cell_type": "code",
   "execution_count": 19,
   "metadata": {},
   "outputs": [
    {
     "data": {
      "image/png": "[encoded data removed]",
      "text/plain": [
       "<Figure size 1152x576 with 1 Axes>"
      ]
     },
     "metadata": {
      "needs_background": "light"
     },
     "output_type": "display_data"
    }
   ],
   "source": [
    "show_plt(loss_history, \"loss\")"
   ]
  },
  {
   "cell_type": "code",
   "execution_count": 36,
   "metadata": {
    "id": "_EEHAubOUSNY"
   },
   "outputs": [
    {
     "data": {
      "image/png": "[encoded data removed]",
      "text/plain": [
       "<Figure size 432x288 with 1 Axes>"
      ]
     },
     "metadata": {
      "needs_background": "light"
     },
     "output_type": "display_data"
    },
    {
     "data": {
      "image/png": "[encoded data removed]",
      "text/plain": [
       "<Figure size 432x288 with 1 Axes>"
      ]
     },
     "metadata": {
      "needs_background": "light"
     },
     "output_type": "display_data"
    },
    {
     "data": {
      "image/png": "[encoded data removed]",
      "text/plain": [
       "<Figure size 432x288 with 1 Axes>"
      ]
     },
     "metadata": {
      "needs_background": "light"
     },
     "output_type": "display_data"
    },
    {
     "data": {
      "image/png": "[encoded data removed]",
      "text/plain": [
       "<Figure size 432x288 with 1 Axes>"
      ]
     },
     "metadata": {
      "needs_background": "light"
     },
     "output_type": "display_data"
    },
    {
     "data": {
      "image/png": "[encoded data removed]",
      "text/plain": [
       "<Figure size 432x288 with 1 Axes>"
      ]
     },
     "metadata": {
      "needs_background": "light"
     },
     "output_type": "display_data"
    },
    {
     "name": "stdout",
     "output_type": "stream",
     "text": [
      "Accuracy of the trained neural network: 80.0%\n"
     ]
    }
   ],
   "source": [
    "# Протестируем обученную нейросеть на 10 изображениях. Из тестовой выборки возьмите 5\n",
    "# случайных изображений и передайте их в нейронню сеть.\n",
    "# Выведите изображение и выпишите рядом ответ нейросети.\n",
    "# Сделайте вывод о том ошибается ли ваша нейронная сеть и если да, то как часто?\n",
    "images_number = 5\n",
    "random_indices = random.sample(range(len(x_test)), images_number)\n",
    "test_img = x_test[random_indices]\n",
    "test_values = y_test[random_indices]\n",
    "\n",
    "predict = neural_net(test_img)\n",
    "predict_values = tf.argmax(predict, axis=1)\n",
    "\n",
    "count_img = 0\n",
    "\n",
    "for i in range(len(test_img)):\n",
    "    image = test_img[i].reshape((28, 28))\n",
    "    value = test_values[i]\n",
    "    predict_value = predict_values[i]\n",
    "    if predict_value == value:\n",
    "      x = 100/images_number\n",
    "      count_img += x\n",
    "    plt.imshow(image, cmap='gray')\n",
    "    plt.axis('off')\n",
    "    plt.title(f\"Value: {value}, predict value: {predict_value}\")\n",
    "    plt.show()\n",
    "\n",
    "print(f'Accuracy of the trained neural network: {count_img}%')"
   ]
  },
  {
   "cell_type": "code",
   "execution_count": null,
   "metadata": {},
   "outputs": [],
   "source": [
    "# Вывод: Нейронная сеть не является идеальной, поскольку в 6 прогонах из 10 она допускала ошибки (1-2 на 5 изображений). "
   ]
  }
 ],
 "metadata": {
  "accelerator": "GPU",
  "colab": {
   "name": "tensorflow_mnist_hw.ipynb",
   "provenance": []
  },
  "kernelspec": {
   "display_name": "anaconda-2022.05-py39",
   "language": "python",
   "name": "conda-env-anaconda-2022.05-py39-py"
  },
  "language_info": {
   "codemirror_mode": {
    "name": "ipython",
    "version": 3
   },
   "file_extension": ".py",
   "mimetype": "text/x-python",
   "name": "python",
   "nbconvert_exporter": "python",
   "pygments_lexer": "ipython3",
   "version": "3.9.12"
  }
 },
 "nbformat": 4,
 "nbformat_minor": 4
}
