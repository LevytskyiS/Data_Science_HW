{
 "cells": [
  {
   "cell_type": "code",
   "execution_count": 59,
   "id": "74a5778d-a600-40e4-bb17-e138513ab37c",
   "metadata": {},
   "outputs": [],
   "source": [
    "import numpy as np\n",
    "import pandas as pd"
   ]
  },
  {
   "cell_type": "code",
   "execution_count": 60,
   "id": "56a61c23-b0d4-43a3-9910-4f5b714c9de0",
   "metadata": {},
   "outputs": [],
   "source": [
    "def h(X, W):\n",
    "    return np.dot(X, W)"
   ]
  },
  {
   "cell_type": "code",
   "execution_count": 61,
   "id": "2712f459-7ca6-4c7c-bd55-41d6190656fd",
   "metadata": {},
   "outputs": [],
   "source": [
    "def loss_function(X, Y, W):\n",
    "    m = X.shape[0]\n",
    "    return np.square(h(X, W) - Y).sum() / (2 * m)"
   ]
  },
  {
   "cell_type": "code",
   "execution_count": 62,
   "id": "d57c643b-38b6-44e6-bc2e-909c71aaec28",
   "metadata": {},
   "outputs": [],
   "source": [
    "def grad_step(W, grad_w, learning_rate=0.001):\n",
    "    W = W - learning_rate * grad_w\n",
    "    return W"
   ]
  },
  {
   "cell_type": "code",
   "execution_count": 63,
   "id": "982ad5ae-7d98-477b-a214-f05f91b2dc07",
   "metadata": {},
   "outputs": [],
   "source": [
    "def grad(X, Y, W):\n",
    "    m = X.shape[0]\n",
    "    np.dot(X.T, (h(X, W) - Y)) / m\n",
    "    return np.dot(X.T, (h(X, W) - Y)) / m"
   ]
  },
  {
   "cell_type": "code",
   "execution_count": 64,
   "id": "dd76d989-840a-47b9-ab91-08c4b199e40c",
   "metadata": {},
   "outputs": [],
   "source": [
    "def grad_descent(X, Y, W, num_iter=10000, learning_rate=0.001, epsilon=0.0000001):\n",
    "    loss = loss_function(X, Y, W)\n",
    "    loss_history = [loss]\n",
    "    for i in range(num_iter):\n",
    "        best = None\n",
    "        grad_w = grad(X, Y, W)\n",
    "        W = grad_step(W, grad_w, learning_rate=learning_rate)\n",
    "        loss = loss_function(X, Y, W)\n",
    "        if abs(loss - loss_history[-1]) < epsilon:\n",
    "            loss_history.append(loss)\n",
    "            best = grad_w\n",
    "            break\n",
    "    loss_history.append(loss)\n",
    "    return W, best, loss_history"
   ]
  },
  {
   "cell_type": "code",
   "execution_count": 65,
   "id": "ec477dc6-9b15-4e9d-9071-08992b48ea90",
   "metadata": {},
   "outputs": [],
   "source": [
    "df = pd.read_csv('Housing.csv')"
   ]
  },
  {
   "cell_type": "code",
   "execution_count": 66,
   "id": "50db32f0-0c2c-44e3-8fc8-dc47d44416c6",
   "metadata": {},
   "outputs": [],
   "source": [
    "def normalize(value):\n",
    "    return (value - value.mean()) / value.std()"
   ]
  },
  {
   "cell_type": "code",
   "execution_count": 67,
   "id": "38272cc1-a62b-469b-bdae-102ad6c5f6c1",
   "metadata": {},
   "outputs": [],
   "source": [
    "norm_df = pd.DataFrame()"
   ]
  },
  {
   "cell_type": "code",
   "execution_count": 68,
   "id": "e4eb5c34-86b0-405f-805c-e3e39556f9b8",
   "metadata": {},
   "outputs": [],
   "source": [
    "norm_df['price'] = normalize(df['price'])\n",
    "norm_df['area'] = normalize(df['area'])\n",
    "norm_df['bedrooms'] = normalize(df['bedrooms'])\n",
    "norm_df['bathrooms'] = normalize(df['bathrooms'])"
   ]
  },
  {
   "cell_type": "code",
   "execution_count": 69,
   "id": "f8a43c52-982c-409b-916c-63f63f3188f2",
   "metadata": {},
   "outputs": [],
   "source": [
    "Y = norm_df[\"price\"].values.reshape(-1, 1)\n",
    "X = norm_df[['area', 'bathrooms', 'bedrooms']].values\n",
    "X = np.hstack((np.ones((X.shape[0], 1)), X))\n",
    "N = X.shape[1]\n",
    "W = np.linspace(0, 0, N).reshape((N, 1))"
   ]
  },
  {
   "cell_type": "code",
   "execution_count": 70,
   "id": "da4d583c-1b4d-4c83-9564-11bea7793480",
   "metadata": {},
   "outputs": [
    {
     "name": "stdout",
     "output_type": "stream",
     "text": [
      "Best values: None\n",
      "Loss func: 0.2559879181621532\n"
     ]
    }
   ],
   "source": [
    "W, best, loss_history = grad_descent(X, Y, W, 10000, learning_rate=0.001)\n",
    "loss = loss_history[-1]\n",
    "print(f'Best values: {best}')\n",
    "print(f'Loss func: {loss}')"
   ]
  },
  {
   "cell_type": "code",
   "execution_count": 71,
   "id": "24e91f4a-0b38-4995-812c-511c3986ae85",
   "metadata": {},
   "outputs": [
    {
     "name": "stdout",
     "output_type": "stream",
     "text": [
      "Best values: [[-1.11606416e-16]\n",
      " [ 4.39452085e-01]\n",
      " [ 3.72344423e-01]\n",
      " [ 1.60528660e-01]]\n"
     ]
    }
   ],
   "source": [
    "weights = np.dot(np.linalg.inv(np.dot(X.T, X)), np.dot(X.T, Y))\n",
    "analytical = loss_function(X, Y, weights)\n",
    "print(f'Best values: {weights}')"
   ]
  },
  {
   "cell_type": "code",
   "execution_count": 72,
   "id": "eab9f25b-7a7a-4179-8b7e-c00b977a625a",
   "metadata": {},
   "outputs": [
    {
     "name": "stdout",
     "output_type": "stream",
     "text": [
      "Analytical value of loss func: 0.25598790065321353 and value of loss function 0.2559879181621532 \n"
     ]
    }
   ],
   "source": [
    "print(f'Analytical value of loss func: {analytical} and value of loss function {loss} ')"
   ]
  }
 ],
 "metadata": {
  "kernelspec": {
   "display_name": "anaconda-panel-2023.05-py310",
   "language": "python",
   "name": "conda-env-anaconda-panel-2023.05-py310-py"
  },
  "language_info": {
   "codemirror_mode": {
    "name": "ipython",
    "version": 3
   },
   "file_extension": ".py",
   "mimetype": "text/x-python",
   "name": "python",
   "nbconvert_exporter": "python",
   "pygments_lexer": "ipython3",
   "version": "3.11.3"
  }
 },
 "nbformat": 4,
 "nbformat_minor": 5
}
