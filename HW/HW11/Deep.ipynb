{
  "nbformat": 4,
  "nbformat_minor": 0,
  "metadata": {
    "colab": {
      "provenance": []
    },
    "kernelspec": {
      "name": "python3",
      "display_name": "Python 3"
    },
    "language_info": {
      "name": "python"
    }
  },
  "cells": [
    {
      "cell_type": "code",
      "execution_count": 1,
      "metadata": {
        "id": "2jbviKN-Gln_"
      },
      "outputs": [],
      "source": [
        "from keras.utils.data_utils import pad_sequences\n",
        "from keras.models import Sequential\n",
        "from keras.layers import Dense, Dropout, Embedding, Bidirectional, LSTM\n",
        "from keras.datasets import imdb\n",
        "import numpy as np\n",
        "import pandas as pd\n",
        "import matplotlib.pyplot as plt"
      ]
    },
    {
      "cell_type": "code",
      "source": [
        "max_features = 20000\n",
        "maxlen = 250\n",
        "batch_size = 128\n",
        "epochs = 3"
      ],
      "metadata": {
        "id": "dD3qx5G-GosZ"
      },
      "execution_count": 2,
      "outputs": []
    },
    {
      "cell_type": "code",
      "source": [
        "(X_train, y_train), (X_test, y_test) = imdb.load_data(path=\"imdb.npz\",\n",
        "                                                      num_words=max_features,\n",
        "                                                      skip_top=0,\n",
        "                                                      maxlen=None,\n",
        "                                                      seed=113,\n",
        "                                                      start_char=1,\n",
        "                                                      oov_char=2,\n",
        "                                                      index_from=3)"
      ],
      "metadata": {
        "id": "mvSdNc_hGros"
      },
      "execution_count": 5,
      "outputs": []
    },
    {
      "cell_type": "code",
      "source": [
        "X_train = pad_sequences(X_train, maxlen=maxlen)\n",
        "X_test = pad_sequences(X_test, maxlen=maxlen)"
      ],
      "metadata": {
        "id": "2LsChd-RGs7w"
      },
      "execution_count": 6,
      "outputs": []
    },
    {
      "cell_type": "code",
      "source": [
        "embedding_vector_length = 32\n",
        "model = Sequential()\n",
        "model.add(Embedding(input_dim=max_features, output_dim=embedding_vector_length, input_length=maxlen))\n",
        "model.add(Dropout(0.2))\n",
        "model.add(Bidirectional(LSTM(32, return_sequences=True)))\n",
        "model.add(Bidirectional(LSTM(32)))\n",
        "model.add(Dense(units=256, activation='relu'))\n",
        "model.add(Dropout(0.2))\n",
        "model.add(Dense(units=1, activation='sigmoid'))\n",
        "model.summary()\n",
        "\n",
        "model.compile(loss='binary_crossentropy',\n",
        "              optimizer='adam',\n",
        "              metrics=['accuracy'])"
      ],
      "metadata": {
        "colab": {
          "base_uri": "https://localhost:8080/"
        },
        "id": "uA6hdoTsGyhc",
        "outputId": "7633f696-3a00-4282-81b6-830fe220b861"
      },
      "execution_count": 7,
      "outputs": [
        {
          "output_type": "stream",
          "name": "stdout",
          "text": [
            "Model: \"sequential\"\n",
            "_________________________________________________________________\n",
            " Layer (type)                Output Shape              Param #   \n",
            "=================================================================\n",
            " embedding (Embedding)       (None, 250, 32)           640000    \n",
            "                                                                 \n",
            " dropout (Dropout)           (None, 250, 32)           0         \n",
            "                                                                 \n",
            " bidirectional (Bidirectiona  (None, 250, 64)          16640     \n",
            " l)                                                              \n",
            "                                                                 \n",
            " bidirectional_1 (Bidirectio  (None, 64)               24832     \n",
            " nal)                                                            \n",
            "                                                                 \n",
            " dense (Dense)               (None, 256)               16640     \n",
            "                                                                 \n",
            " dropout_1 (Dropout)         (None, 256)               0         \n",
            "                                                                 \n",
            " dense_1 (Dense)             (None, 1)                 257       \n",
            "                                                                 \n",
            "=================================================================\n",
            "Total params: 698,369\n",
            "Trainable params: 698,369\n",
            "Non-trainable params: 0\n",
            "_________________________________________________________________\n"
          ]
        }
      ]
    },
    {
      "cell_type": "code",
      "source": [
        "history = model.fit(X_train, y_train,\n",
        "          batch_size=batch_size,\n",
        "          epochs=epochs,\n",
        "          validation_split=0.2)"
      ],
      "metadata": {
        "colab": {
          "base_uri": "https://localhost:8080/"
        },
        "id": "ytV3OWMJG0s8",
        "outputId": "0a0a2fc4-d4c4-48b0-b7d2-f8f586c30b85"
      },
      "execution_count": 8,
      "outputs": [
        {
          "output_type": "stream",
          "name": "stdout",
          "text": [
            "157/157 [==============================] - 86s 492ms/step - loss: 0.4890 - accuracy: 0.7458 - val_loss: 0.3547 - val_accuracy: 0.8520\n",
            "Epoch 2/3\n",
            "157/157 [==============================] - 74s 471ms/step - loss: 0.2523 - accuracy: 0.9033 - val_loss: 0.3161 - val_accuracy: 0.8654\n",
            "Epoch 3/3\n",
            "157/157 [==============================] - 75s 477ms/step - loss: 0.1622 - accuracy: 0.9416 - val_loss: 0.3240 - val_accuracy: 0.8654\n"
          ]
        }
      ]
    },
    {
      "cell_type": "code",
      "source": [
        "predictions = model.predict(X_test)\n",
        "\n",
        "binary_predictions = ['positive' if pred > 0.5 else 'negative' for pred in predictions]\n",
        "\n",
        "for i in range(10):\n",
        "    print(f\"Predicted: {binary_predictions[i]}, Label: {'positive' if y_test[i] > 0.5 else 'negative'}\")\n",
        "\n",
        "test_loss, test_acc = model.evaluate(X_test, y_test)\n",
        "print('Test Loss: {}'.format(test_loss))\n",
        "print('Test Accuracy: {}'.format(test_acc))"
      ],
      "metadata": {
        "colab": {
          "base_uri": "https://localhost:8080/"
        },
        "id": "hvzYlF4dG2n8",
        "outputId": "2623a3e5-9d5e-4fc5-b3a6-781ee663f3bb"
      },
      "execution_count": 9,
      "outputs": [
        {
          "output_type": "stream",
          "name": "stdout",
          "text": [
            "782/782 [==============================] - 46s 57ms/step\n",
            "Predicted: negative, Label: negative\n",
            "Predicted: positive, Label: positive\n",
            "Predicted: positive, Label: positive\n",
            "Predicted: positive, Label: negative\n",
            "Predicted: positive, Label: positive\n",
            "Predicted: positive, Label: positive\n",
            "Predicted: positive, Label: positive\n",
            "Predicted: negative, Label: negative\n",
            "Predicted: positive, Label: negative\n",
            "Predicted: positive, Label: positive\n",
            "782/782 [==============================] - 45s 57ms/step - loss: 0.3393 - accuracy: 0.8584\n",
            "Test Loss: 0.33929336071014404\n",
            "Test Accuracy: 0.8583999872207642\n"
          ]
        }
      ]
    }
  ]
}