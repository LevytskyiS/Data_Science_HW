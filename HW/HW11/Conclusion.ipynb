{
  "nbformat": 4,
  "nbformat_minor": 0,
  "metadata": {
    "colab": {
      "provenance": []
    },
    "kernelspec": {
      "name": "python3",
      "display_name": "Python 3"
    },
    "language_info": {
      "name": "python"
    }
  },
  "cells": [
    {
      "cell_type": "markdown",
      "source": [
        "Результати випробувань:\n",
        "\n",
        "SimpleRNN: Test Loss: 0.43 Test Accuracy: 0.82\n",
        "\n",
        "LSTM: Test Loss: 0.34 Test Accuracy: 0.87\n",
        "\n",
        "BRNN: Test Loss: 0.35 Test Accuracy: 0.8\n",
        "\n",
        "DeepBRNN: Test Loss: 0.34 Test Accuracy: 0.86\n",
        "\n",
        "Висновок:\n",
        "Всі використані рекурентні нейронні мережі показали досить високий та відносно рівний результат. З побудованих графіків було встановлено, що після 3-ї епохи в усіх нейромережах відбувалося перенавчання. Тому навчання було обмежено трьома епохами. Найменшу похибку та досить високу точність показала Long Short Term Memory нейронна мережа, яка має більше воріт(в порівнянні з GRU) і більшу гнучкість, що дозволяє їй відображати залежності в довгостроковій перспективі."
      ],
      "metadata": {
        "id": "BkNbTj3BKOKl"
      }
    }
  ]
}